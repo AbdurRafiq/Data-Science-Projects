{
  "nbformat": 4,
  "nbformat_minor": 0,
  "metadata": {
    "colab": {
      "name": "Unsupervisedfrauddetection.ipynb",
      "provenance": [],
      "mount_file_id": "1HhUNXjB6eYER66a86Zpu2TK5jKz3JpBN",
      "authorship_tag": "ABX9TyMiJZxhmkybUJyk3jfVSeJN",
      "include_colab_link": true
    },
    "kernelspec": {
      "name": "python3",
      "display_name": "Python 3"
    },
    "accelerator": "GPU"
  },
  "cells": [
    {
      "cell_type": "markdown",
      "metadata": {
        "id": "view-in-github",
        "colab_type": "text"
      },
      "source": [
        "<a href=\"https://colab.research.google.com/github/AbdurRafiq/Medicare-Fraud-Detection-by-Data-Science/blob/master/Unsupervisedfrauddetection.ipynb\" target=\"_parent\"><img src=\"https://colab.research.google.com/assets/colab-badge.svg\" alt=\"Open In Colab\"/></a>"
      ]
    },
    {
      "cell_type": "code",
      "metadata": {
        "id": "kft7oAv4vawJ",
        "colab_type": "code",
        "colab": {}
      },
      "source": [
        "import pandas as pd\n",
        "import numpy as np\n",
        "import math\n",
        "import random\n",
        "%matplotlib inline\n",
        "import random\n",
        "from matplotlib import pyplot\n"
      ],
      "execution_count": 0,
      "outputs": []
    },
    {
      "cell_type": "code",
      "metadata": {
        "id": "gdtUkRH2v0bu",
        "colab_type": "code",
        "outputId": "d35eada1-db1d-4977-b810-59df39ddf875",
        "colab": {
          "base_uri": "https://localhost:8080/",
          "height": 224
        }
      },
      "source": [
        "df = pd.read_csv(\"/content/drive/My Drive/content/gdrive/rafiq/provider.csv\")\n",
        "df.head()"
      ],
      "execution_count": 3,
      "outputs": [
        {
          "output_type": "execute_result",
          "data": {
            "text/html": [
              "<div>\n",
              "<style scoped>\n",
              "    .dataframe tbody tr th:only-of-type {\n",
              "        vertical-align: middle;\n",
              "    }\n",
              "\n",
              "    .dataframe tbody tr th {\n",
              "        vertical-align: top;\n",
              "    }\n",
              "\n",
              "    .dataframe thead th {\n",
              "        text-align: right;\n",
              "    }\n",
              "</style>\n",
              "<table border=\"1\" class=\"dataframe\">\n",
              "  <thead>\n",
              "    <tr style=\"text-align: right;\">\n",
              "      <th></th>\n",
              "      <th>npi</th>\n",
              "      <th>line_srvc_cnt</th>\n",
              "      <th>bene_unique_cnt</th>\n",
              "      <th>bene_day_srvc_cnt</th>\n",
              "      <th>average_Medicare_allowed_amt</th>\n",
              "      <th>average_submitted_chrg_amt</th>\n",
              "      <th>average_Medicare_payment_amt</th>\n",
              "      <th>average_Medicare_standard_amt</th>\n",
              "      <th>FRAUD</th>\n",
              "    </tr>\n",
              "  </thead>\n",
              "  <tbody>\n",
              "    <tr>\n",
              "      <th>0</th>\n",
              "      <td>1003127655</td>\n",
              "      <td>617.0</td>\n",
              "      <td>499</td>\n",
              "      <td>617</td>\n",
              "      <td>219.944716</td>\n",
              "      <td>332.463533</td>\n",
              "      <td>170.918590</td>\n",
              "      <td>160.501297</td>\n",
              "      <td>1</td>\n",
              "    </tr>\n",
              "    <tr>\n",
              "      <th>1</th>\n",
              "      <td>1003127655</td>\n",
              "      <td>249.0</td>\n",
              "      <td>17</td>\n",
              "      <td>249</td>\n",
              "      <td>42.570080</td>\n",
              "      <td>69.899598</td>\n",
              "      <td>33.024418</td>\n",
              "      <td>30.899317</td>\n",
              "      <td>1</td>\n",
              "    </tr>\n",
              "    <tr>\n",
              "      <th>2</th>\n",
              "      <td>1003127655</td>\n",
              "      <td>1220.0</td>\n",
              "      <td>235</td>\n",
              "      <td>1220</td>\n",
              "      <td>78.414213</td>\n",
              "      <td>120.000000</td>\n",
              "      <td>61.340197</td>\n",
              "      <td>57.327828</td>\n",
              "      <td>1</td>\n",
              "    </tr>\n",
              "    <tr>\n",
              "      <th>3</th>\n",
              "      <td>1003127655</td>\n",
              "      <td>754.0</td>\n",
              "      <td>434</td>\n",
              "      <td>754</td>\n",
              "      <td>113.284987</td>\n",
              "      <td>172.590186</td>\n",
              "      <td>88.611313</td>\n",
              "      <td>83.092427</td>\n",
              "      <td>1</td>\n",
              "    </tr>\n",
              "    <tr>\n",
              "      <th>4</th>\n",
              "      <td>1003127655</td>\n",
              "      <td>543.0</td>\n",
              "      <td>448</td>\n",
              "      <td>543</td>\n",
              "      <td>117.852320</td>\n",
              "      <td>188.176796</td>\n",
              "      <td>91.907495</td>\n",
              "      <td>85.472413</td>\n",
              "      <td>1</td>\n",
              "    </tr>\n",
              "  </tbody>\n",
              "</table>\n",
              "</div>"
            ],
            "text/plain": [
              "          npi  line_srvc_cnt  ...  average_Medicare_standard_amt  FRAUD\n",
              "0  1003127655          617.0  ...                     160.501297      1\n",
              "1  1003127655          249.0  ...                      30.899317      1\n",
              "2  1003127655         1220.0  ...                      57.327828      1\n",
              "3  1003127655          754.0  ...                      83.092427      1\n",
              "4  1003127655          543.0  ...                      85.472413      1\n",
              "\n",
              "[5 rows x 9 columns]"
            ]
          },
          "metadata": {
            "tags": []
          },
          "execution_count": 3
        }
      ]
    },
    {
      "cell_type": "code",
      "metadata": {
        "id": "R__zjPSoWug8",
        "colab_type": "code",
        "outputId": "b9a5117f-531a-4250-cae5-dd3d78ee6783",
        "colab": {
          "base_uri": "https://localhost:8080/",
          "height": 68
        }
      },
      "source": [
        "df.FRAUD.value_counts()"
      ],
      "execution_count": 0,
      "outputs": [
        {
          "output_type": "execute_result",
          "data": {
            "text/plain": [
              "0    97950\n",
              "1     2050\n",
              "Name: FRAUD, dtype: int64"
            ]
          },
          "metadata": {
            "tags": []
          },
          "execution_count": 3
        }
      ]
    },
    {
      "cell_type": "code",
      "metadata": {
        "id": "p0zmwFc7L2F1",
        "colab_type": "code",
        "colab": {
          "base_uri": "https://localhost:8080/",
          "height": 317
        },
        "outputId": "aaabf2a6-5a1f-4bcf-9ff5-8f3d3b644a9f"
      },
      "source": [
        "df.describe(include=\"all\")"
      ],
      "execution_count": 5,
      "outputs": [
        {
          "output_type": "execute_result",
          "data": {
            "text/html": [
              "<div>\n",
              "<style scoped>\n",
              "    .dataframe tbody tr th:only-of-type {\n",
              "        vertical-align: middle;\n",
              "    }\n",
              "\n",
              "    .dataframe tbody tr th {\n",
              "        vertical-align: top;\n",
              "    }\n",
              "\n",
              "    .dataframe thead th {\n",
              "        text-align: right;\n",
              "    }\n",
              "</style>\n",
              "<table border=\"1\" class=\"dataframe\">\n",
              "  <thead>\n",
              "    <tr style=\"text-align: right;\">\n",
              "      <th></th>\n",
              "      <th>npi</th>\n",
              "      <th>line_srvc_cnt</th>\n",
              "      <th>bene_unique_cnt</th>\n",
              "      <th>bene_day_srvc_cnt</th>\n",
              "      <th>average_Medicare_allowed_amt</th>\n",
              "      <th>average_submitted_chrg_amt</th>\n",
              "      <th>average_Medicare_payment_amt</th>\n",
              "      <th>average_Medicare_standard_amt</th>\n",
              "      <th>FRAUD</th>\n",
              "    </tr>\n",
              "  </thead>\n",
              "  <tbody>\n",
              "    <tr>\n",
              "      <th>count</th>\n",
              "      <td>1.000000e+05</td>\n",
              "      <td>100000.000000</td>\n",
              "      <td>100000.000000</td>\n",
              "      <td>100000.000000</td>\n",
              "      <td>100000.000000</td>\n",
              "      <td>100000.000000</td>\n",
              "      <td>100000.000000</td>\n",
              "      <td>100000.000000</td>\n",
              "      <td>100000.000000</td>\n",
              "    </tr>\n",
              "    <tr>\n",
              "      <th>mean</th>\n",
              "      <td>1.982043e+09</td>\n",
              "      <td>225.783860</td>\n",
              "      <td>77.410920</td>\n",
              "      <td>126.992530</td>\n",
              "      <td>101.561862</td>\n",
              "      <td>341.226581</td>\n",
              "      <td>77.346709</td>\n",
              "      <td>78.226611</td>\n",
              "      <td>0.020500</td>\n",
              "    </tr>\n",
              "    <tr>\n",
              "      <th>std</th>\n",
              "      <td>8.012901e+07</td>\n",
              "      <td>2734.932123</td>\n",
              "      <td>219.168965</td>\n",
              "      <td>580.038118</td>\n",
              "      <td>259.505840</td>\n",
              "      <td>963.617769</td>\n",
              "      <td>201.420748</td>\n",
              "      <td>203.838393</td>\n",
              "      <td>0.141704</td>\n",
              "    </tr>\n",
              "    <tr>\n",
              "      <th>min</th>\n",
              "      <td>1.003128e+09</td>\n",
              "      <td>11.000000</td>\n",
              "      <td>11.000000</td>\n",
              "      <td>11.000000</td>\n",
              "      <td>0.010000</td>\n",
              "      <td>0.010000</td>\n",
              "      <td>0.000000</td>\n",
              "      <td>0.005833</td>\n",
              "      <td>0.000000</td>\n",
              "    </tr>\n",
              "    <tr>\n",
              "      <th>25%</th>\n",
              "      <td>1.992711e+09</td>\n",
              "      <td>21.000000</td>\n",
              "      <td>17.000000</td>\n",
              "      <td>20.000000</td>\n",
              "      <td>24.540000</td>\n",
              "      <td>58.000000</td>\n",
              "      <td>19.587147</td>\n",
              "      <td>20.270000</td>\n",
              "      <td>0.000000</td>\n",
              "    </tr>\n",
              "    <tr>\n",
              "      <th>50%</th>\n",
              "      <td>1.992769e+09</td>\n",
              "      <td>43.000000</td>\n",
              "      <td>32.000000</td>\n",
              "      <td>40.000000</td>\n",
              "      <td>65.985000</td>\n",
              "      <td>146.971239</td>\n",
              "      <td>47.268341</td>\n",
              "      <td>48.050000</td>\n",
              "      <td>0.000000</td>\n",
              "    </tr>\n",
              "    <tr>\n",
              "      <th>75%</th>\n",
              "      <td>1.992843e+09</td>\n",
              "      <td>118.000000</td>\n",
              "      <td>75.000000</td>\n",
              "      <td>107.000000</td>\n",
              "      <td>113.880000</td>\n",
              "      <td>300.000000</td>\n",
              "      <td>85.495226</td>\n",
              "      <td>85.424484</td>\n",
              "      <td>0.000000</td>\n",
              "    </tr>\n",
              "    <tr>\n",
              "      <th>max</th>\n",
              "      <td>1.993000e+09</td>\n",
              "      <td>564499.000000</td>\n",
              "      <td>14311.000000</td>\n",
              "      <td>91429.000000</td>\n",
              "      <td>24126.350000</td>\n",
              "      <td>75344.925926</td>\n",
              "      <td>18915.060000</td>\n",
              "      <td>17413.970000</td>\n",
              "      <td>1.000000</td>\n",
              "    </tr>\n",
              "  </tbody>\n",
              "</table>\n",
              "</div>"
            ],
            "text/plain": [
              "                npi  ...          FRAUD\n",
              "count  1.000000e+05  ...  100000.000000\n",
              "mean   1.982043e+09  ...       0.020500\n",
              "std    8.012901e+07  ...       0.141704\n",
              "min    1.003128e+09  ...       0.000000\n",
              "25%    1.992711e+09  ...       0.000000\n",
              "50%    1.992769e+09  ...       0.000000\n",
              "75%    1.992843e+09  ...       0.000000\n",
              "max    1.993000e+09  ...       1.000000\n",
              "\n",
              "[8 rows x 9 columns]"
            ]
          },
          "metadata": {
            "tags": []
          },
          "execution_count": 5
        }
      ]
    },
    {
      "cell_type": "code",
      "metadata": {
        "id": "I1BMEwKcMH6O",
        "colab_type": "code",
        "colab": {
          "base_uri": "https://localhost:8080/",
          "height": 348
        },
        "outputId": "a59f04f3-ab8e-48bf-fda0-ce5422a2d95a"
      },
      "source": [
        "df.corr()"
      ],
      "execution_count": 6,
      "outputs": [
        {
          "output_type": "execute_result",
          "data": {
            "text/html": [
              "<div>\n",
              "<style scoped>\n",
              "    .dataframe tbody tr th:only-of-type {\n",
              "        vertical-align: middle;\n",
              "    }\n",
              "\n",
              "    .dataframe tbody tr th {\n",
              "        vertical-align: top;\n",
              "    }\n",
              "\n",
              "    .dataframe thead th {\n",
              "        text-align: right;\n",
              "    }\n",
              "</style>\n",
              "<table border=\"1\" class=\"dataframe\">\n",
              "  <thead>\n",
              "    <tr style=\"text-align: right;\">\n",
              "      <th></th>\n",
              "      <th>npi</th>\n",
              "      <th>line_srvc_cnt</th>\n",
              "      <th>bene_unique_cnt</th>\n",
              "      <th>bene_day_srvc_cnt</th>\n",
              "      <th>average_Medicare_allowed_amt</th>\n",
              "      <th>average_submitted_chrg_amt</th>\n",
              "      <th>average_Medicare_payment_amt</th>\n",
              "      <th>average_Medicare_standard_amt</th>\n",
              "      <th>FRAUD</th>\n",
              "    </tr>\n",
              "  </thead>\n",
              "  <tbody>\n",
              "    <tr>\n",
              "      <th>npi</th>\n",
              "      <td>1.000000</td>\n",
              "      <td>-0.035491</td>\n",
              "      <td>-0.048094</td>\n",
              "      <td>-0.066902</td>\n",
              "      <td>0.004711</td>\n",
              "      <td>0.011544</td>\n",
              "      <td>0.006124</td>\n",
              "      <td>0.005546</td>\n",
              "      <td>-0.867419</td>\n",
              "    </tr>\n",
              "    <tr>\n",
              "      <th>line_srvc_cnt</th>\n",
              "      <td>-0.035491</td>\n",
              "      <td>1.000000</td>\n",
              "      <td>0.367888</td>\n",
              "      <td>0.572856</td>\n",
              "      <td>-0.016592</td>\n",
              "      <td>-0.017586</td>\n",
              "      <td>-0.016341</td>\n",
              "      <td>-0.016397</td>\n",
              "      <td>0.029591</td>\n",
              "    </tr>\n",
              "    <tr>\n",
              "      <th>bene_unique_cnt</th>\n",
              "      <td>-0.048094</td>\n",
              "      <td>0.367888</td>\n",
              "      <td>1.000000</td>\n",
              "      <td>0.784398</td>\n",
              "      <td>-0.021670</td>\n",
              "      <td>-0.030630</td>\n",
              "      <td>-0.021689</td>\n",
              "      <td>-0.021977</td>\n",
              "      <td>0.037416</td>\n",
              "    </tr>\n",
              "    <tr>\n",
              "      <th>bene_day_srvc_cnt</th>\n",
              "      <td>-0.066902</td>\n",
              "      <td>0.572856</td>\n",
              "      <td>0.784398</td>\n",
              "      <td>1.000000</td>\n",
              "      <td>-0.020732</td>\n",
              "      <td>-0.028593</td>\n",
              "      <td>-0.020812</td>\n",
              "      <td>-0.020924</td>\n",
              "      <td>0.055469</td>\n",
              "    </tr>\n",
              "    <tr>\n",
              "      <th>average_Medicare_allowed_amt</th>\n",
              "      <td>0.004711</td>\n",
              "      <td>-0.016592</td>\n",
              "      <td>-0.021670</td>\n",
              "      <td>-0.020732</td>\n",
              "      <td>1.000000</td>\n",
              "      <td>0.779159</td>\n",
              "      <td>0.998716</td>\n",
              "      <td>0.996019</td>\n",
              "      <td>-0.002412</td>\n",
              "    </tr>\n",
              "    <tr>\n",
              "      <th>average_submitted_chrg_amt</th>\n",
              "      <td>0.011544</td>\n",
              "      <td>-0.017586</td>\n",
              "      <td>-0.030630</td>\n",
              "      <td>-0.028593</td>\n",
              "      <td>0.779159</td>\n",
              "      <td>1.000000</td>\n",
              "      <td>0.779569</td>\n",
              "      <td>0.771432</td>\n",
              "      <td>-0.013459</td>\n",
              "    </tr>\n",
              "    <tr>\n",
              "      <th>average_Medicare_payment_amt</th>\n",
              "      <td>0.006124</td>\n",
              "      <td>-0.016341</td>\n",
              "      <td>-0.021689</td>\n",
              "      <td>-0.020812</td>\n",
              "      <td>0.998716</td>\n",
              "      <td>0.779569</td>\n",
              "      <td>1.000000</td>\n",
              "      <td>0.995762</td>\n",
              "      <td>-0.004162</td>\n",
              "    </tr>\n",
              "    <tr>\n",
              "      <th>average_Medicare_standard_amt</th>\n",
              "      <td>0.005546</td>\n",
              "      <td>-0.016397</td>\n",
              "      <td>-0.021977</td>\n",
              "      <td>-0.020924</td>\n",
              "      <td>0.996019</td>\n",
              "      <td>0.771432</td>\n",
              "      <td>0.995762</td>\n",
              "      <td>1.000000</td>\n",
              "      <td>-0.003535</td>\n",
              "    </tr>\n",
              "    <tr>\n",
              "      <th>FRAUD</th>\n",
              "      <td>-0.867419</td>\n",
              "      <td>0.029591</td>\n",
              "      <td>0.037416</td>\n",
              "      <td>0.055469</td>\n",
              "      <td>-0.002412</td>\n",
              "      <td>-0.013459</td>\n",
              "      <td>-0.004162</td>\n",
              "      <td>-0.003535</td>\n",
              "      <td>1.000000</td>\n",
              "    </tr>\n",
              "  </tbody>\n",
              "</table>\n",
              "</div>"
            ],
            "text/plain": [
              "                                    npi  ...     FRAUD\n",
              "npi                            1.000000  ... -0.867419\n",
              "line_srvc_cnt                 -0.035491  ...  0.029591\n",
              "bene_unique_cnt               -0.048094  ...  0.037416\n",
              "bene_day_srvc_cnt             -0.066902  ...  0.055469\n",
              "average_Medicare_allowed_amt   0.004711  ... -0.002412\n",
              "average_submitted_chrg_amt     0.011544  ... -0.013459\n",
              "average_Medicare_payment_amt   0.006124  ... -0.004162\n",
              "average_Medicare_standard_amt  0.005546  ... -0.003535\n",
              "FRAUD                         -0.867419  ...  1.000000\n",
              "\n",
              "[9 rows x 9 columns]"
            ]
          },
          "metadata": {
            "tags": []
          },
          "execution_count": 6
        }
      ]
    },
    {
      "cell_type": "code",
      "metadata": {
        "id": "KwhZFDh7MLnn",
        "colab_type": "code",
        "colab": {}
      },
      "source": [
        ""
      ],
      "execution_count": 0,
      "outputs": []
    },
    {
      "cell_type": "code",
      "metadata": {
        "id": "TMhZv6xRwzDq",
        "colab_type": "code",
        "colab": {}
      },
      "source": [
        "class ExNode:\n",
        "    def __init__(self,size):\n",
        "        self.size=size\n",
        "        \n",
        "class InNode:\n",
        "    def __init__(self,left,right,splitAtt,splitVal):\n",
        "        self.left=left\n",
        "        self.right=right\n",
        "        self.splitAtt=splitAtt\n",
        "        self.splitVal=splitVal"
      ],
      "execution_count": 0,
      "outputs": []
    },
    {
      "cell_type": "code",
      "metadata": {
        "id": "JBW7O_CGwzNF",
        "colab_type": "code",
        "colab": {}
      },
      "source": [
        "def iForest(X,noOfTrees,sampleSize):\n",
        "    forest=[]\n",
        "    hlim=math.ceil(math.log(sampleSize,2))\n",
        "    for i in range(noOfTrees):\n",
        "        X_train=X.sample(sampleSize)\n",
        "        forest.append(iTree(X_train,0,hlim))\n",
        "    return forest"
      ],
      "execution_count": 0,
      "outputs": []
    },
    {
      "cell_type": "code",
      "metadata": {
        "id": "7td-CzxNwzSf",
        "colab_type": "code",
        "colab": {}
      },
      "source": [
        "def iTree(X,currHeight,hlim):\n",
        "    if currHeight>=hlim or len(X)<=1:\n",
        "        return ExNode(len(X))\n",
        "    else:\n",
        "        Q=X.columns\n",
        "        q=random.choice(Q)\n",
        "        p=random.choice(X[q].unique())\n",
        "        X_l=X[X[q]<p]\n",
        "        X_r=X[X[q]>=p]\n",
        "        return InNode(iTree(X_l,currHeight+1,hlim),iTree(X_r,currHeight+1,hlim),q,p)"
      ],
      "execution_count": 0,
      "outputs": []
    },
    {
      "cell_type": "code",
      "metadata": {
        "id": "JHq7xvzuwzZq",
        "colab_type": "code",
        "colab": {}
      },
      "source": [
        "def pathLength(x,Tree,currHeight):\n",
        "    if isinstance(Tree,ExNode):\n",
        "        return currHeight\n",
        "    a=Tree.splitAtt\n",
        "    if x[a]<Tree.splitVal:\n",
        "        return pathLength(x,Tree.left,currHeight+1)\n",
        "    else:\n",
        "        return pathLength(x,Tree.right,currHeight+1)"
      ],
      "execution_count": 0,
      "outputs": []
    },
    {
      "cell_type": "code",
      "metadata": {
        "id": "MjwfuhNLwzdR",
        "colab_type": "code",
        "outputId": "9efa96f6-3e92-4c19-9369-ffefa0884a1c",
        "colab": {
          "base_uri": "https://localhost:8080/",
          "height": 255
        }
      },
      "source": [
        "df.info()"
      ],
      "execution_count": 0,
      "outputs": [
        {
          "output_type": "stream",
          "text": [
            "<class 'pandas.core.frame.DataFrame'>\n",
            "RangeIndex: 100000 entries, 0 to 99999\n",
            "Data columns (total 9 columns):\n",
            "npi                              100000 non-null int64\n",
            "line_srvc_cnt                    100000 non-null float64\n",
            "bene_unique_cnt                  100000 non-null int64\n",
            "bene_day_srvc_cnt                100000 non-null int64\n",
            "average_Medicare_allowed_amt     100000 non-null float64\n",
            "average_submitted_chrg_amt       100000 non-null float64\n",
            "average_Medicare_payment_amt     100000 non-null float64\n",
            "average_Medicare_standard_amt    100000 non-null float64\n",
            "FRAUD                            100000 non-null int64\n",
            "dtypes: float64(5), int64(4)\n",
            "memory usage: 6.9 MB\n"
          ],
          "name": "stdout"
        }
      ]
    },
    {
      "cell_type": "code",
      "metadata": {
        "id": "TFIVKc2uwzXb",
        "colab_type": "code",
        "colab": {
          "base_uri": "https://localhost:8080/",
          "height": 187
        },
        "outputId": "6356a5fe-8097-4540-f816-e108550525c1"
      },
      "source": [
        "df.dtypes"
      ],
      "execution_count": 11,
      "outputs": [
        {
          "output_type": "execute_result",
          "data": {
            "text/plain": [
              "npi                                int64\n",
              "line_srvc_cnt                    float64\n",
              "bene_unique_cnt                    int64\n",
              "bene_day_srvc_cnt                  int64\n",
              "average_Medicare_allowed_amt     float64\n",
              "average_submitted_chrg_amt       float64\n",
              "average_Medicare_payment_amt     float64\n",
              "average_Medicare_standard_amt    float64\n",
              "FRAUD                              int64\n",
              "dtype: object"
            ]
          },
          "metadata": {
            "tags": []
          },
          "execution_count": 11
        }
      ]
    },
    {
      "cell_type": "code",
      "metadata": {
        "id": "ujM5Tuokv0jT",
        "colab_type": "code",
        "colab": {}
      },
      "source": [
        "y_true=df['FRAUD']\n",
        "df_data=df.drop('FRAUD',1)"
      ],
      "execution_count": 0,
      "outputs": []
    },
    {
      "cell_type": "code",
      "metadata": {
        "id": "8hMYQRLEv0oA",
        "colab_type": "code",
        "colab": {}
      },
      "source": [
        "sampleSize=50000\n",
        "ifor=iForest(df_data.sample(100000),100,sampleSize) ##Forest of 100 trees"
      ],
      "execution_count": 0,
      "outputs": []
    },
    {
      "cell_type": "code",
      "metadata": {
        "id": "gD1GQr3Av0rL",
        "colab_type": "code",
        "colab": {}
      },
      "source": [
        "posLenLst=[]\n",
        "negLenLst=[]\n",
        "\n",
        "for sim in range(50000):\n",
        "    ind=random.choice(df_data[y_true==1].index)\n",
        "    for tree in ifor:\n",
        "        posLenLst.append(pathLength(df_data.iloc[ind],tree,0))\n",
        "        \n",
        "    ind=random.choice(df_data[y_true==0].index)\n",
        "    for tree in ifor:\n",
        "        negLenLst.append(pathLength(df_data.iloc[ind],tree,0))"
      ],
      "execution_count": 0,
      "outputs": []
    },
    {
      "cell_type": "code",
      "metadata": {
        "id": "m3uuC874v03N",
        "colab_type": "code",
        "outputId": "bac5d9d1-bf1f-4413-e9c9-6a37a0c8ccb5",
        "colab": {
          "base_uri": "https://localhost:8080/",
          "height": 525
        }
      },
      "source": [
        "bins = np.linspace(0,math.ceil(math.log(sampleSize,2)), math.ceil(math.log(sampleSize,2)))\n",
        "\n",
        "pyplot.figure(figsize=(12,8))\n",
        "pyplot.hist(posLenLst, bins, alpha=0.5, label='Fraud')\n",
        "pyplot.hist(negLenLst, bins, alpha=0.5, label='Normal')\n",
        "pyplot.xlabel('Path Length')\n",
        "pyplot.ylabel('Frequency')\n",
        "pyplot.legend(loc='upper left')"
      ],
      "execution_count": 0,
      "outputs": [
        {
          "output_type": "execute_result",
          "data": {
            "text/plain": [
              "<matplotlib.legend.Legend at 0x7f23327d3be0>"
            ]
          },
          "metadata": {
            "tags": []
          },
          "execution_count": 12
        },
        {
          "output_type": "display_data",
          "data": {
            "image/png": "[encoded data removed]",
            "text/plain": [
              "<Figure size 864x576 with 1 Axes>"
            ]
          },
          "metadata": {
            "tags": []
          }
        }
      ]
    },
    {
      "cell_type": "code",
      "metadata": {
        "id": "_JLYMk4xv08n",
        "colab_type": "code",
        "colab": {}
      },
      "source": [
        "from sklearn.manifold import TSNE"
      ],
      "execution_count": 0,
      "outputs": []
    },
    {
      "cell_type": "code",
      "metadata": {
        "id": "L-p3h2Qrv1CR",
        "colab_type": "code",
        "colab": {}
      },
      "source": [
        "df_plt=df[df['FRAUD']==0].sample(2000)\n",
        "df_plt_pos=df[df['FRAUD']==1].sample(400)\n",
        "df_plt=pd.concat([df_plt,df_plt_pos])\n",
        "y_plt=df_plt['FRAUD']\n",
        "X_plt=df_plt.drop('FRAUD',1)"
      ],
      "execution_count": 0,
      "outputs": []
    },
    {
      "cell_type": "code",
      "metadata": {
        "id": "VZxdSEAPv1H8",
        "colab_type": "code",
        "colab": {}
      },
      "source": [
        "X_embedded = TSNE(n_components=2).fit_transform(X_plt)"
      ],
      "execution_count": 0,
      "outputs": []
    },
    {
      "cell_type": "code",
      "metadata": {
        "id": "KRmFBqJLv1LL",
        "colab_type": "code",
        "outputId": "1556b75f-f6e2-4ac6-ce9f-f1a767e37393",
        "colab": {
          "base_uri": "https://localhost:8080/",
          "height": 504
        }
      },
      "source": [
        "pyplot.figure(figsize=(12,8))\n",
        "pyplot.scatter(X_embedded[:,0], X_embedded[:,1], c=y_plt, cmap=pyplot.cm.get_cmap(\"Paired\", 2))\n",
        "pyplot.colorbar(ticks=range(2))"
      ],
      "execution_count": 0,
      "outputs": [
        {
          "output_type": "execute_result",
          "data": {
            "text/plain": [
              "<matplotlib.colorbar.Colorbar at 0x7f2322a269e8>"
            ]
          },
          "metadata": {
            "tags": []
          },
          "execution_count": 18
        },
        {
          "output_type": "display_data",
          "data": {
            "image/png": "[encoded data removed]",
            "text/plain": [
              "<Figure size 864x576 with 2 Axes>"
            ]
          },
          "metadata": {
            "tags": []
          }
        }
      ]
    },
    {
      "cell_type": "code",
      "metadata": {
        "id": "P7dyHbbYv1OT",
        "colab_type": "code",
        "colab": {}
      },
      "source": [
        "from sklearn.ensemble import IsolationForest\n",
        "from sklearn.svm import OneClassSVM\n",
        "from sklearn.neighbors import LocalOutlierFactor ## Only available with scikit-learn 0.19 and later\n",
        "from sklearn.cluster import KMeans"
      ],
      "execution_count": 0,
      "outputs": []
    },
    {
      "cell_type": "code",
      "metadata": {
        "id": "WRa7EUBLv1Ft",
        "colab_type": "code",
        "colab": {}
      },
      "source": [
        "from sklearn.model_selection import train_test_split"
      ],
      "execution_count": 0,
      "outputs": []
    },
    {
      "cell_type": "code",
      "metadata": {
        "id": "nE80cazDv0_1",
        "colab_type": "code",
        "colab": {}
      },
      "source": [
        "X_train, X_test, y_train, y_test = train_test_split(df_data, y_true, test_size=0.5, random_state=42)"
      ],
      "execution_count": 0,
      "outputs": []
    },
    {
      "cell_type": "code",
      "metadata": {
        "id": "atn1lFyVv06m",
        "colab_type": "code",
        "colab": {}
      },
      "source": [
        "def preprocess(df_data):\n",
        "    for col in df_data:\n",
        "        df_data[col]=(df_data[col]-np.min(df_data[col]))/(np.max(df_data[col])-np.min(df_data[col]))\n",
        "    return"
      ],
      "execution_count": 0,
      "outputs": []
    },
    {
      "cell_type": "code",
      "metadata": {
        "id": "zR2HKXZTv01b",
        "colab_type": "code",
        "colab": {}
      },
      "source": [
        "def train(X,clf,ensembleSize=5,sampleSize=50000):\n",
        "    mdlLst=[]\n",
        "    for n in range(ensembleSize):\n",
        "        X=df_data.sample(sampleSize)\n",
        "        clf.fit(X)\n",
        "        mdlLst.append(clf)\n",
        "    return mdlLst"
      ],
      "execution_count": 0,
      "outputs": []
    },
    {
      "cell_type": "code",
      "metadata": {
        "id": "ZhdslQ7tv00X",
        "colab_type": "code",
        "colab": {}
      },
      "source": [
        "## Not valif for LOF\n",
        "def predict(X,mdlLst):\n",
        "    y_pred=np.zeros(X.shape[0])\n",
        "    for clf in mdlLst:\n",
        "        y_pred=np.add(y_pred,clf.decision_function(X).reshape(X.shape[0],))\n",
        "    y_pred=(y_pred*1.0)/len(mdlLst)\n",
        "    return y_pred"
      ],
      "execution_count": 0,
      "outputs": []
    },
    {
      "cell_type": "code",
      "metadata": {
        "id": "Guy8Jch5v0wS",
        "colab_type": "code",
        "colab": {}
      },
      "source": [
        "from sklearn.metrics import roc_auc_score\n",
        "from sklearn.metrics import confusion_matrix,f1_score"
      ],
      "execution_count": 0,
      "outputs": []
    },
    {
      "cell_type": "code",
      "metadata": {
        "id": "N_Rop1AD3d52",
        "colab_type": "code",
        "colab": {}
      },
      "source": [
        "alg=IsolationForest(n_estimators=100, max_samples='auto', contamination=0.01, \\\n",
        "                        max_features=1.0, bootstrap=False, n_jobs=-1, random_state=42, verbose=0,behaviour=\"new\")"
      ],
      "execution_count": 0,
      "outputs": []
    },
    {
      "cell_type": "code",
      "metadata": {
        "id": "3FFHGvOu3d9_",
        "colab_type": "code",
        "outputId": "8d179afc-d767-4661-da6a-10eca3a2f620",
        "colab": {
          "base_uri": "https://localhost:8080/",
          "height": 734
        }
      },
      "source": [
        "%%timeit\n",
        "if_mdlLst=train(X_train,alg)"
      ],
      "execution_count": 0,
      "outputs": [
        {
          "output_type": "stream",
          "text": [
            "/usr/local/lib/python3.6/dist-packages/sklearn/ensemble/_iforest.py:248: FutureWarning: 'behaviour' is deprecated in 0.22 and will be removed in 0.24. You should not pass or set this parameter.\n",
            "  FutureWarning\n",
            "/usr/local/lib/python3.6/dist-packages/sklearn/ensemble/_iforest.py:248: FutureWarning: 'behaviour' is deprecated in 0.22 and will be removed in 0.24. You should not pass or set this parameter.\n",
            "  FutureWarning\n",
            "/usr/local/lib/python3.6/dist-packages/sklearn/ensemble/_iforest.py:248: FutureWarning: 'behaviour' is deprecated in 0.22 and will be removed in 0.24. You should not pass or set this parameter.\n",
            "  FutureWarning\n",
            "/usr/local/lib/python3.6/dist-packages/sklearn/ensemble/_iforest.py:248: FutureWarning: 'behaviour' is deprecated in 0.22 and will be removed in 0.24. You should not pass or set this parameter.\n",
            "  FutureWarning\n",
            "/usr/local/lib/python3.6/dist-packages/sklearn/ensemble/_iforest.py:248: FutureWarning: 'behaviour' is deprecated in 0.22 and will be removed in 0.24. You should not pass or set this parameter.\n",
            "  FutureWarning\n",
            "/usr/local/lib/python3.6/dist-packages/sklearn/ensemble/_iforest.py:248: FutureWarning: 'behaviour' is deprecated in 0.22 and will be removed in 0.24. You should not pass or set this parameter.\n",
            "  FutureWarning\n",
            "/usr/local/lib/python3.6/dist-packages/sklearn/ensemble/_iforest.py:248: FutureWarning: 'behaviour' is deprecated in 0.22 and will be removed in 0.24. You should not pass or set this parameter.\n",
            "  FutureWarning\n",
            "/usr/local/lib/python3.6/dist-packages/sklearn/ensemble/_iforest.py:248: FutureWarning: 'behaviour' is deprecated in 0.22 and will be removed in 0.24. You should not pass or set this parameter.\n",
            "  FutureWarning\n",
            "/usr/local/lib/python3.6/dist-packages/sklearn/ensemble/_iforest.py:248: FutureWarning: 'behaviour' is deprecated in 0.22 and will be removed in 0.24. You should not pass or set this parameter.\n",
            "  FutureWarning\n",
            "/usr/local/lib/python3.6/dist-packages/sklearn/ensemble/_iforest.py:248: FutureWarning: 'behaviour' is deprecated in 0.22 and will be removed in 0.24. You should not pass or set this parameter.\n",
            "  FutureWarning\n",
            "/usr/local/lib/python3.6/dist-packages/sklearn/ensemble/_iforest.py:248: FutureWarning: 'behaviour' is deprecated in 0.22 and will be removed in 0.24. You should not pass or set this parameter.\n",
            "  FutureWarning\n",
            "/usr/local/lib/python3.6/dist-packages/sklearn/ensemble/_iforest.py:248: FutureWarning: 'behaviour' is deprecated in 0.22 and will be removed in 0.24. You should not pass or set this parameter.\n",
            "  FutureWarning\n",
            "/usr/local/lib/python3.6/dist-packages/sklearn/ensemble/_iforest.py:248: FutureWarning: 'behaviour' is deprecated in 0.22 and will be removed in 0.24. You should not pass or set this parameter.\n",
            "  FutureWarning\n",
            "/usr/local/lib/python3.6/dist-packages/sklearn/ensemble/_iforest.py:248: FutureWarning: 'behaviour' is deprecated in 0.22 and will be removed in 0.24. You should not pass or set this parameter.\n",
            "  FutureWarning\n",
            "/usr/local/lib/python3.6/dist-packages/sklearn/ensemble/_iforest.py:248: FutureWarning: 'behaviour' is deprecated in 0.22 and will be removed in 0.24. You should not pass or set this parameter.\n",
            "  FutureWarning\n",
            "/usr/local/lib/python3.6/dist-packages/sklearn/ensemble/_iforest.py:248: FutureWarning: 'behaviour' is deprecated in 0.22 and will be removed in 0.24. You should not pass or set this parameter.\n",
            "  FutureWarning\n",
            "/usr/local/lib/python3.6/dist-packages/sklearn/ensemble/_iforest.py:248: FutureWarning: 'behaviour' is deprecated in 0.22 and will be removed in 0.24. You should not pass or set this parameter.\n",
            "  FutureWarning\n",
            "/usr/local/lib/python3.6/dist-packages/sklearn/ensemble/_iforest.py:248: FutureWarning: 'behaviour' is deprecated in 0.22 and will be removed in 0.24. You should not pass or set this parameter.\n",
            "  FutureWarning\n",
            "/usr/local/lib/python3.6/dist-packages/sklearn/ensemble/_iforest.py:248: FutureWarning: 'behaviour' is deprecated in 0.22 and will be removed in 0.24. You should not pass or set this parameter.\n",
            "  FutureWarning\n",
            "/usr/local/lib/python3.6/dist-packages/sklearn/ensemble/_iforest.py:248: FutureWarning: 'behaviour' is deprecated in 0.22 and will be removed in 0.24. You should not pass or set this parameter.\n",
            "  FutureWarning\n"
          ],
          "name": "stderr"
        },
        {
          "output_type": "stream",
          "text": [
            "1 loop, best of 3: 8.26 s per loop\n"
          ],
          "name": "stdout"
        }
      ]
    },
    {
      "cell_type": "code",
      "metadata": {
        "id": "S9O2MlUt3eEN",
        "colab_type": "code",
        "outputId": "a0356bbe-a9be-4522-f34c-cb2523be9420",
        "colab": {
          "base_uri": "https://localhost:8080/",
          "height": 207
        }
      },
      "source": [
        "if_mdlLst=train(X_train,alg)"
      ],
      "execution_count": 0,
      "outputs": [
        {
          "output_type": "stream",
          "text": [
            "/usr/local/lib/python3.6/dist-packages/sklearn/ensemble/_iforest.py:248: FutureWarning: 'behaviour' is deprecated in 0.22 and will be removed in 0.24. You should not pass or set this parameter.\n",
            "  FutureWarning\n",
            "/usr/local/lib/python3.6/dist-packages/sklearn/ensemble/_iforest.py:248: FutureWarning: 'behaviour' is deprecated in 0.22 and will be removed in 0.24. You should not pass or set this parameter.\n",
            "  FutureWarning\n",
            "/usr/local/lib/python3.6/dist-packages/sklearn/ensemble/_iforest.py:248: FutureWarning: 'behaviour' is deprecated in 0.22 and will be removed in 0.24. You should not pass or set this parameter.\n",
            "  FutureWarning\n",
            "/usr/local/lib/python3.6/dist-packages/sklearn/ensemble/_iforest.py:248: FutureWarning: 'behaviour' is deprecated in 0.22 and will be removed in 0.24. You should not pass or set this parameter.\n",
            "  FutureWarning\n",
            "/usr/local/lib/python3.6/dist-packages/sklearn/ensemble/_iforest.py:248: FutureWarning: 'behaviour' is deprecated in 0.22 and will be removed in 0.24. You should not pass or set this parameter.\n",
            "  FutureWarning\n"
          ],
          "name": "stderr"
        }
      ]
    },
    {
      "cell_type": "code",
      "metadata": {
        "id": "V652MJLx3eOi",
        "colab_type": "code",
        "outputId": "0644b9f3-428c-419e-ea86-0230923f1569",
        "colab": {
          "base_uri": "https://localhost:8080/",
          "height": 34
        }
      },
      "source": [
        "%%timeit\n",
        "if_y_pred=predict(X_test,if_mdlLst)\n",
        "if_y_pred=1-if_y_pred\n",
        "\n",
        "#Creating class labels based on decision function\n",
        "if_y_pred_class=if_y_pred.copy()\n",
        "if_y_pred_class[if_y_pred>=np.percentile(if_y_pred,95)]=1\n",
        "if_y_pred_class[if_y_pred<np.percentile(if_y_pred,95)]=0"
      ],
      "execution_count": 0,
      "outputs": [
        {
          "output_type": "stream",
          "text": [
            "1 loop, best of 3: 5.66 s per loop\n"
          ],
          "name": "stdout"
        }
      ]
    },
    {
      "cell_type": "code",
      "metadata": {
        "id": "7V41zPIz3eTD",
        "colab_type": "code",
        "colab": {}
      },
      "source": [
        "if_y_pred=predict(X_test,if_mdlLst)\n",
        "if_y_pred=1-if_y_pred\n",
        "\n",
        "#Creating class labels based on decision function\n",
        "if_y_pred_class=if_y_pred.copy()\n",
        "if_y_pred_class[if_y_pred>=np.percentile(if_y_pred,95)]=1\n",
        "if_y_pred_class[if_y_pred<np.percentile(if_y_pred,95)]=0"
      ],
      "execution_count": 0,
      "outputs": []
    },
    {
      "cell_type": "code",
      "metadata": {
        "id": "rX0T4xSk3eNH",
        "colab_type": "code",
        "outputId": "6572e58e-6c22-42bb-b53d-b8c6d79d5798",
        "colab": {
          "base_uri": "https://localhost:8080/",
          "height": 34
        }
      },
      "source": [
        "roc_auc_score(y_test, if_y_pred_class)"
      ],
      "execution_count": 0,
      "outputs": [
        {
          "output_type": "execute_result",
          "data": {
            "text/plain": [
              "0.6242638730015602"
            ]
          },
          "metadata": {
            "tags": []
          },
          "execution_count": 32
        }
      ]
    },
    {
      "cell_type": "code",
      "metadata": {
        "id": "9-udO3AN3eIt",
        "colab_type": "code",
        "outputId": "f316a264-c94c-4ce6-8ee8-3a92c17b9295",
        "colab": {
          "base_uri": "https://localhost:8080/",
          "height": 34
        }
      },
      "source": [
        "f1_score(y_test, if_y_pred_class)"
      ],
      "execution_count": 0,
      "outputs": [
        {
          "output_type": "execute_result",
          "data": {
            "text/plain": [
              "0.16833095577746077"
            ]
          },
          "metadata": {
            "tags": []
          },
          "execution_count": 33
        }
      ]
    },
    {
      "cell_type": "code",
      "metadata": {
        "id": "Z3rYXIx03eBl",
        "colab_type": "code",
        "colab": {}
      },
      "source": [
        "if_cm=confusion_matrix(y_test, if_y_pred_class)"
      ],
      "execution_count": 0,
      "outputs": []
    },
    {
      "cell_type": "code",
      "metadata": {
        "id": "fmwGchiWv0l3",
        "colab_type": "code",
        "outputId": "420e3a9c-c3d2-42f9-8201-becbbf73a6fe",
        "colab": {
          "base_uri": "https://localhost:8080/",
          "height": 290
        }
      },
      "source": [
        "import seaborn as sn\n",
        "     \n",
        "df_cm = pd.DataFrame(if_cm,\n",
        "                  ['True Normal','True Fraud'],['Pred Normal','Pred Fraud'])\n",
        "pyplot.figure(figsize = (8,4))\n",
        "sn.set(font_scale=1.4)#for label size\n",
        "sn.heatmap(df_cm, annot=True,annot_kws={\"size\": 16},fmt='g')# font siz"
      ],
      "execution_count": 0,
      "outputs": [
        {
          "output_type": "execute_result",
          "data": {
            "text/plain": [
              "<matplotlib.axes._subplots.AxesSubplot at 0x7f231cbe5b70>"
            ]
          },
          "metadata": {
            "tags": []
          },
          "execution_count": 35
        },
        {
          "output_type": "display_data",
          "data": {
            "image/png": "[encoded data removed]",
            "text/plain": [
              "<Figure size 576x288 with 2 Axes>"
            ]
          },
          "metadata": {
            "tags": []
          }
        }
      ]
    },
    {
      "cell_type": "code",
      "metadata": {
        "id": "sfNc3w3Qv0fa",
        "colab_type": "code",
        "colab": {}
      },
      "source": [
        "##Kmeans\n",
        "kmeans = KMeans(n_clusters=8, random_state=100,n_jobs=-1).fit(X_train)\n"
      ],
      "execution_count": 0,
      "outputs": []
    },
    {
      "cell_type": "code",
      "metadata": {
        "id": "WHVGj8bu4wuh",
        "colab_type": "code",
        "colab": {}
      },
      "source": [
        "kmeans = KMeans(n_clusters=20, random_state=42,n_jobs=-1).fit(X_train)"
      ],
      "execution_count": 0,
      "outputs": []
    },
    {
      "cell_type": "code",
      "metadata": {
        "id": "iKl2GQIR4w0j",
        "colab_type": "code",
        "colab": {}
      },
      "source": [
        "X_test_clusters=kmeans.predict(X_test)\n",
        "X_test_clusters_centers=kmeans.cluster_centers_\n",
        "dist = [np.linalg.norm(x-y) for x,y in zip(X_test.values,X_test_clusters_centers[X_test_clusters])]\n",
        "\n",
        "km_y_pred=np.array(dist)\n",
        "km_y_pred[dist>=np.percentile(dist,95)]=1\n",
        "km_y_pred[dist<np.percentile(dist,95)]=0"
      ],
      "execution_count": 0,
      "outputs": []
    },
    {
      "cell_type": "code",
      "metadata": {
        "id": "aKOzD97u4w9C",
        "colab_type": "code",
        "colab": {}
      },
      "source": [
        "X_test_clusters=kmeans.predict(X_test)\n",
        "X_test_clusters_centers=kmeans.cluster_centers_\n",
        "dist = [np.linalg.norm(x-y) for x,y in zip(X_test.values,X_test_clusters_centers[X_test_clusters])]\n",
        "\n",
        "km_y_pred=np.array(dist)\n",
        "km_y_pred[dist>=np.percentile(dist,95)]=1\n",
        "km_y_pred[dist<np.percentile(dist,95)]=0"
      ],
      "execution_count": 0,
      "outputs": []
    },
    {
      "cell_type": "code",
      "metadata": {
        "id": "IZnO2ryx4xIQ",
        "colab_type": "code",
        "outputId": "01d64a4f-41d9-4d0a-d16f-8a0bb85ff311",
        "colab": {
          "base_uri": "https://localhost:8080/",
          "height": 34
        }
      },
      "source": [
        "roc_auc_score(y_test, km_y_pred)"
      ],
      "execution_count": 0,
      "outputs": [
        {
          "output_type": "execute_result",
          "data": {
            "text/plain": [
              "0.962403768482823"
            ]
          },
          "metadata": {
            "tags": []
          },
          "execution_count": 40
        }
      ]
    },
    {
      "cell_type": "code",
      "metadata": {
        "id": "BxQBISEL4xOP",
        "colab_type": "code",
        "outputId": "4d11b710-8994-4b2e-8f08-3e965fde9223",
        "colab": {
          "base_uri": "https://localhost:8080/",
          "height": 34
        }
      },
      "source": [
        "f1_score(y_test, km_y_pred)"
      ],
      "execution_count": 0,
      "outputs": [
        {
          "output_type": "execute_result",
          "data": {
            "text/plain": [
              "0.5483594864479315"
            ]
          },
          "metadata": {
            "tags": []
          },
          "execution_count": 41
        }
      ]
    },
    {
      "cell_type": "code",
      "metadata": {
        "id": "ntPffYqq4xZb",
        "colab_type": "code",
        "colab": {}
      },
      "source": [
        "km_cm=confusion_matrix(y_test, km_y_pred)"
      ],
      "execution_count": 0,
      "outputs": []
    },
    {
      "cell_type": "code",
      "metadata": {
        "id": "xGXY1_v44xim",
        "colab_type": "code",
        "outputId": "2f63434b-06e6-4ddd-814b-8258625580b3",
        "colab": {
          "base_uri": "https://localhost:8080/",
          "height": 290
        }
      },
      "source": [
        "df_cm = pd.DataFrame(km_cm,\n",
        "                  ['True Normal','True Fraud'],['Pred Normal','Pred Fraud'])\n",
        "pyplot.figure(figsize = (8,4))\n",
        "sn.set(font_scale=1.4)#for label size\n",
        "sn.heatmap(df_cm, annot=True,annot_kws={\"size\": 16},fmt='g')# font size"
      ],
      "execution_count": 0,
      "outputs": [
        {
          "output_type": "execute_result",
          "data": {
            "text/plain": [
              "<matplotlib.axes._subplots.AxesSubplot at 0x7f231c316240>"
            ]
          },
          "metadata": {
            "tags": []
          },
          "execution_count": 43
        },
        {
          "output_type": "display_data",
          "data": {
            "image/png": "[encoded data removed]",
            "text/plain": [
              "<Figure size 576x288 with 2 Axes>"
            ]
          },
          "metadata": {
            "tags": []
          }
        }
      ]
    },
    {
      "cell_type": "code",
      "metadata": {
        "id": "_8x3TuYf4xwZ",
        "colab_type": "code",
        "colab": {}
      },
      "source": [
        "clf=LocalOutlierFactor(n_neighbors=40, algorithm='auto', leaf_size=30, \\\n",
        "                   metric='minkowski', p=2, metric_params=None, contamination=0.5, n_jobs=-1)"
      ],
      "execution_count": 0,
      "outputs": []
    },
    {
      "cell_type": "code",
      "metadata": {
        "id": "DbmWXzw54x5X",
        "colab_type": "code",
        "outputId": "5135e16f-b9d0-4db6-e279-1bb578410bfe",
        "colab": {
          "base_uri": "https://localhost:8080/",
          "height": 34
        }
      },
      "source": [
        "%%timeit\n",
        "clf.fit(X_test)"
      ],
      "execution_count": 0,
      "outputs": [
        {
          "output_type": "stream",
          "text": [
            "1 loop, best of 3: 1.02 s per loop\n"
          ],
          "name": "stdout"
        }
      ]
    },
    {
      "cell_type": "code",
      "metadata": {
        "id": "Hm71IucW4yEW",
        "colab_type": "code",
        "outputId": "ab01a63b-19d9-48a9-a574-6b5addb1cf37",
        "colab": {
          "base_uri": "https://localhost:8080/",
          "height": 34
        }
      },
      "source": [
        "%%timeit\n",
        "clf.fit(X_test)"
      ],
      "execution_count": 0,
      "outputs": [
        {
          "output_type": "stream",
          "text": [
            "1 loop, best of 3: 1.01 s per loop\n"
          ],
          "name": "stdout"
        }
      ]
    },
    {
      "cell_type": "code",
      "metadata": {
        "id": "YR1t-BXL4yN5",
        "colab_type": "code",
        "outputId": "24392e2d-8235-4eb9-eecf-7c01f3aa3374",
        "colab": {
          "base_uri": "https://localhost:8080/",
          "height": 34
        }
      },
      "source": [
        "%%timeit\n",
        "lof_y_pred=clf.negative_outlier_factor_\n",
        "\n",
        "#Creating class labels based on decision function\n",
        "lof_y_pred_class=lof_y_pred.copy()\n",
        "lof_y_pred_class[lof_y_pred>=np.percentile(lof_y_pred,95)]=1\n",
        "lof_y_pred_class[lof_y_pred<np.percentile(lof_y_pred,95)]=0"
      ],
      "execution_count": 0,
      "outputs": [
        {
          "output_type": "stream",
          "text": [
            "1000 loops, best of 3: 1.55 ms per loop\n"
          ],
          "name": "stdout"
        }
      ]
    },
    {
      "cell_type": "code",
      "metadata": {
        "id": "ztAFKpvA4ySf",
        "colab_type": "code",
        "colab": {}
      },
      "source": [
        "lof_y_pred=clf.negative_outlier_factor_\n",
        "\n",
        "#Creating class labels based on decision function\n",
        "lof_y_pred_class=lof_y_pred.copy()\n",
        "lof_y_pred_class[lof_y_pred>=np.percentile(lof_y_pred,95)]=1\n",
        "lof_y_pred_class[lof_y_pred<np.percentile(lof_y_pred,95)]=0"
      ],
      "execution_count": 0,
      "outputs": []
    },
    {
      "cell_type": "code",
      "metadata": {
        "id": "uUNtJtRd4xgR",
        "colab_type": "code",
        "outputId": "a2f6627a-8303-4c54-8150-ca1e77c5becf",
        "colab": {
          "base_uri": "https://localhost:8080/",
          "height": 34
        }
      },
      "source": [
        "roc_auc_score(y_test, lof_y_pred_class)"
      ],
      "execution_count": 0,
      "outputs": [
        {
          "output_type": "execute_result",
          "data": {
            "text/plain": [
              "0.5196740554803287"
            ]
          },
          "metadata": {
            "tags": []
          },
          "execution_count": 50
        }
      ]
    },
    {
      "cell_type": "code",
      "metadata": {
        "id": "eVPmkH_D4xdw",
        "colab_type": "code",
        "outputId": "a257e7ca-5b38-491d-b3a9-f8d363c5a70c",
        "colab": {
          "base_uri": "https://localhost:8080/",
          "height": 34
        }
      },
      "source": [
        "f1_score(y_test, lof_y_pred_class)"
      ],
      "execution_count": 0,
      "outputs": [
        {
          "output_type": "execute_result",
          "data": {
            "text/plain": [
              "0.050784593437945794"
            ]
          },
          "metadata": {
            "tags": []
          },
          "execution_count": 51
        }
      ]
    },
    {
      "cell_type": "code",
      "metadata": {
        "id": "9sBno7hx4xW6",
        "colab_type": "code",
        "colab": {}
      },
      "source": [
        "lof_cm=confusion_matrix(y_test, lof_y_pred_class)"
      ],
      "execution_count": 0,
      "outputs": []
    },
    {
      "cell_type": "code",
      "metadata": {
        "id": "FcZtoi6M4xUS",
        "colab_type": "code",
        "outputId": "63f77c76-9e99-4247-bb28-459708afb1d6",
        "colab": {
          "base_uri": "https://localhost:8080/",
          "height": 290
        }
      },
      "source": [
        "df_cm = pd.DataFrame(lof_cm,\n",
        "                  ['True Normal','True Fraud'],['Pred Normal','Pred Fraud'])\n",
        "pyplot.figure(figsize = (8,4))\n",
        "sn.set(font_scale=1.4)#for label size\n",
        "sn.heatmap(df_cm, annot=True,annot_kws={\"size\": 16},fmt='g')# font size"
      ],
      "execution_count": 0,
      "outputs": [
        {
          "output_type": "execute_result",
          "data": {
            "text/plain": [
              "<matplotlib.axes._subplots.AxesSubplot at 0x7f231c294b38>"
            ]
          },
          "metadata": {
            "tags": []
          },
          "execution_count": 53
        },
        {
          "output_type": "display_data",
          "data": {
            "image/png": "[encoded data removed]",
            "text/plain": [
              "<Figure size 576x288 with 2 Axes>"
            ]
          },
          "metadata": {
            "tags": []
          }
        }
      ]
    },
    {
      "cell_type": "code",
      "metadata": {
        "id": "4u2bQUmK4xSB",
        "colab_type": "code",
        "colab": {}
      },
      "source": [
        "##one-class\n",
        "alg=OneClassSVM(kernel='linear',gamma='auto', coef0=0.0, tol=0.001, nu=0.5, \\\n",
        "                shrinking=True, cache_size=500, verbose=False, max_iter=-1)"
      ],
      "execution_count": 0,
      "outputs": []
    },
    {
      "cell_type": "code",
      "metadata": {
        "id": "cYcEZREF4xL1",
        "colab_type": "code",
        "outputId": "b84c93fc-e570-4c50-c820-2cfcad0dc3cc",
        "colab": {
          "base_uri": "https://localhost:8080/",
          "height": 34
        }
      },
      "source": [
        "%%timeit\n",
        "osvm_mdlLst=train(X_train,alg)"
      ],
      "execution_count": 0,
      "outputs": [
        {
          "output_type": "stream",
          "text": [
            "1 loop, best of 3: 4min 5s per loop\n"
          ],
          "name": "stdout"
        }
      ]
    },
    {
      "cell_type": "code",
      "metadata": {
        "id": "2Rt2jDqM4xGN",
        "colab_type": "code",
        "colab": {}
      },
      "source": [
        "osvm_mdlLst=train(X_train,alg)"
      ],
      "execution_count": 0,
      "outputs": []
    },
    {
      "cell_type": "code",
      "metadata": {
        "id": "7R8By7NV4xE3",
        "colab_type": "code",
        "outputId": "3a40087a-bffb-4bc9-8e5e-d76a45421943",
        "colab": {
          "base_uri": "https://localhost:8080/",
          "height": 34
        }
      },
      "source": [
        "%%timeit\n",
        "osvm_y_pred=predict(X_test,osvm_mdlLst)\n",
        "\n",
        "#Creating class labels based on decision function\n",
        "osvm_y_pred_class=osvm_y_pred.copy()\n",
        "osvm_y_pred_class[osvm_y_pred<0]=1\n",
        "osvm_y_pred_class[osvm_y_pred>=0]=0"
      ],
      "execution_count": 0,
      "outputs": [
        {
          "output_type": "stream",
          "text": [
            "1 loop, best of 3: 51.6 s per loop\n"
          ],
          "name": "stdout"
        }
      ]
    },
    {
      "cell_type": "code",
      "metadata": {
        "id": "lzoD0YIC68_g",
        "colab_type": "code",
        "colab": {}
      },
      "source": [
        "osvm_y_pred=predict(X_test,osvm_mdlLst)\n",
        "\n",
        "#Creating class labels based on decision function\n",
        "osvm_y_pred_class=osvm_y_pred.copy()\n",
        "osvm_y_pred_class[osvm_y_pred<0]=1\n",
        "osvm_y_pred_class[osvm_y_pred>=0]=0"
      ],
      "execution_count": 0,
      "outputs": []
    },
    {
      "cell_type": "code",
      "metadata": {
        "id": "bLUuYJT54xBW",
        "colab_type": "code",
        "outputId": "71932076-949a-4177-b82a-33c1ecea9b73",
        "colab": {
          "base_uri": "https://localhost:8080/",
          "height": 34
        }
      },
      "source": [
        "roc_auc_score(y_test, osvm_y_pred_class)"
      ],
      "execution_count": 0,
      "outputs": [
        {
          "output_type": "execute_result",
          "data": {
            "text/plain": [
              "0.7544876901338802"
            ]
          },
          "metadata": {
            "tags": []
          },
          "execution_count": 60
        }
      ]
    },
    {
      "cell_type": "code",
      "metadata": {
        "id": "gSmZoQ6i4w6p",
        "colab_type": "code",
        "outputId": "24683906-502c-4d60-916f-69598ac74371",
        "colab": {
          "base_uri": "https://localhost:8080/",
          "height": 34
        }
      },
      "source": [
        "f1_score(y_test, osvm_y_pred_class)"
      ],
      "execution_count": 0,
      "outputs": [
        {
          "output_type": "execute_result",
          "data": {
            "text/plain": [
              "0.07717733876547006"
            ]
          },
          "metadata": {
            "tags": []
          },
          "execution_count": 61
        }
      ]
    },
    {
      "cell_type": "code",
      "metadata": {
        "id": "-UjRuIjE4w4Q",
        "colab_type": "code",
        "colab": {}
      },
      "source": [
        "osvm_cm=confusion_matrix(y_test, osvm_y_pred_class)"
      ],
      "execution_count": 0,
      "outputs": []
    },
    {
      "cell_type": "code",
      "metadata": {
        "id": "kaATrBHg4wyr",
        "colab_type": "code",
        "outputId": "616943a7-d20e-408b-9816-98b157a36244",
        "colab": {
          "base_uri": "https://localhost:8080/",
          "height": 290
        }
      },
      "source": [
        "df_cm = pd.DataFrame(osvm_cm,\n",
        "                  ['True Normal','True Fraud'],['Pred Normal','Pred Fraud'])\n",
        "pyplot.figure(figsize = (8,4))\n",
        "sn.set(font_scale=1.4)#for label size\n",
        "sn.heatmap(df_cm, annot=True,annot_kws={\"size\": 16},fmt='g')# font size"
      ],
      "execution_count": 0,
      "outputs": [
        {
          "output_type": "execute_result",
          "data": {
            "text/plain": [
              "<matplotlib.axes._subplots.AxesSubplot at 0x7f231c358f28>"
            ]
          },
          "metadata": {
            "tags": []
          },
          "execution_count": 63
        },
        {
          "output_type": "display_data",
          "data": {
            "image/png": "[encoded data removed]",
            "text/plain": [
              "<Figure size 576x288 with 2 Axes>"
            ]
          },
          "metadata": {
            "tags": []
          }
        }
      ]
    },
    {
      "cell_type": "code",
      "metadata": {
        "id": "0mxcWX6S7QQZ",
        "colab_type": "code",
        "colab": {}
      },
      "source": [
        ""
      ],
      "execution_count": 0,
      "outputs": []
    },
    {
      "cell_type": "code",
      "metadata": {
        "id": "YYgdKli57QZ7",
        "colab_type": "code",
        "colab": {}
      },
      "source": [
        "auc_scores={\n",
        "    'Isolation Forest': roc_auc_score(y_test, if_y_pred_class),\n",
        "    'KMeans':roc_auc_score(y_test, km_y_pred),\n",
        "    'LOF':roc_auc_score(y_test, lof_y_pred_class),\n",
        "    'OneClass SVM': roc_auc_score(y_test, osvm_y_pred_class),\n",
        "    'Autoencoder' : 0.54\n",
        "}\n",
        "\n",
        "f1_scores={\n",
        "    'Isolation Forest':f1_score(y_test, if_y_pred_class),\n",
        "    'KMeans':f1_score(y_test, km_y_pred),\n",
        "    'LOF':f1_score(y_test, lof_y_pred_class),\n",
        "    'OneClass SVM': f1_score(y_test, osvm_y_pred_class)\n",
        "}"
      ],
      "execution_count": 0,
      "outputs": []
    },
    {
      "cell_type": "code",
      "metadata": {
        "id": "ozpelCpi7uaz",
        "colab_type": "code",
        "outputId": "80c5520d-f66d-4df1-fa59-29b75d4346da",
        "colab": {
          "base_uri": "https://localhost:8080/",
          "height": 332
        }
      },
      "source": [
        "pyplot.title('AUC Scores')\n",
        "pyplot.barh(range(len(auc_scores)), list(auc_scores.values()), align='center')\n",
        "pyplot.yticks(range(len(auc_scores)), list(auc_scores.keys()))\n",
        "pyplot.xlabel('AUC Score')"
      ],
      "execution_count": 0,
      "outputs": [
        {
          "output_type": "execute_result",
          "data": {
            "text/plain": [
              "Text(0.5, 0, 'AUC Score')"
            ]
          },
          "metadata": {
            "tags": []
          },
          "execution_count": 73
        },
        {
          "output_type": "display_data",
          "data": {
            "image/png": "[encoded data removed]",
            "text/plain": [
              "<Figure size 432x288 with 1 Axes>"
            ]
          },
          "metadata": {
            "tags": []
          }
        }
      ]
    },
    {
      "cell_type": "code",
      "metadata": {
        "id": "vUzWsPv87ur_",
        "colab_type": "code",
        "colab": {}
      },
      "source": [
        ""
      ],
      "execution_count": 0,
      "outputs": []
    },
    {
      "cell_type": "code",
      "metadata": {
        "id": "whFUejVZ-Fmm",
        "colab_type": "code",
        "colab": {}
      },
      "source": [
        "\n",
        "from sklearn import metrics\n",
        "import matplotlib.pyplot as plt"
      ],
      "execution_count": 0,
      "outputs": []
    },
    {
      "cell_type": "code",
      "metadata": {
        "id": "_KifxJzH7uqP",
        "colab_type": "code",
        "outputId": "8a7702a1-2a2d-4cc0-81a7-126ed3bff2b4",
        "colab": {
          "base_uri": "https://localhost:8080/",
          "height": 1000
        }
      },
      "source": [
        "\n",
        "\n",
        "fpr, tpr, _ = metrics.roc_curve(y_test, lof_y_pred_class)\n",
        "auc = metrics.roc_auc_score(y_test,lof_y_pred_class)\n",
        "plt.title(\"Receiver Operating Curve\")\n",
        "\n",
        "plt.plot(fpr,tpr,label=\"LOF, auc=\"+str(auc))\n",
        "plt.legend(loc=4)\n",
        "plt.show()\n",
        "fpr, tpr, _ = metrics.roc_curve(y_test, osvm_y_pred_class)\n",
        "auc = metrics.roc_auc_score(y_test,osvm_y_pred_class)\n",
        "plt.title(\"Receiver Operating Curve\")\n",
        "\n",
        "plt.plot(fpr,tpr,label=\"OneClass, auc=\"+str(auc))\n",
        "plt.legend(loc=4)\n",
        "plt.show()\n",
        "fpr, tpr, _ = metrics.roc_curve(y_test, km_y_pred)\n",
        "auc = metrics.roc_auc_score(y_test,km_y_pred)\n",
        "plt.title(\"Receiver Operating Curve\")\n",
        "\n",
        "plt.plot(fpr,tpr,label=\"Kmeans, auc=\"+str(auc))\n",
        "plt.legend(loc=4)\n",
        "plt.show()\n",
        "fpr, tpr, _ = metrics.roc_curve(y_test, if_y_pred_class\n",
        "                                )\n",
        "auc = metrics.roc_auc_score(y_test,if_y_pred_class)\n",
        "plt.title(\"Receiver Operating Curve\")\n",
        "\n",
        "plt.plot(fpr,tpr,label=\"Isolationforrest, auc=\"+str(auc))\n",
        "plt.legend(loc=4)\n",
        "plt.show()"
      ],
      "execution_count": 0,
      "outputs": [
        {
          "output_type": "display_data",
          "data": {
            "image/png": "[encoded data removed]",
            "text/plain": [
              "<Figure size 432x288 with 1 Axes>"
            ]
          },
          "metadata": {
            "tags": []
          }
        },
        {
          "output_type": "display_data",
          "data": {
            "image/png": "[encoded data removed]",
            "text/plain": [
              "<Figure size 432x288 with 1 Axes>"
            ]
          },
          "metadata": {
            "tags": []
          }
        },
        {
          "output_type": "display_data",
          "data": {
            "image/png": "[encoded data removed]",
            "text/plain": [
              "<Figure size 432x288 with 1 Axes>"
            ]
          },
          "metadata": {
            "tags": []
          }
        },
        {
          "output_type": "display_data",
          "data": {
            "image/png": "[encoded data removed]",
            "text/plain": [
              "<Figure size 432x288 with 1 Axes>"
            ]
          },
          "metadata": {
            "tags": []
          }
        }
      ]
    },
    {
      "cell_type": "code",
      "metadata": {
        "id": "AEBAwBS97QUU",
        "colab_type": "code",
        "colab": {}
      },
      "source": [
        ""
      ],
      "execution_count": 0,
      "outputs": []
    }
  ]
}