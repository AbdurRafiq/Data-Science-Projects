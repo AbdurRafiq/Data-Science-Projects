{
  "nbformat": 4,
  "nbformat_minor": 0,
  "metadata": {
    "colab": {
      "name": "Medicare_Fraud_detection.ipynb",
      "provenance": [],
      "mount_file_id": "1KPCH4A-98hZckVPaywvN2dFEzLpBWTzD",
      "authorship_tag": "ABX9TyMlkyWwh1JYaj3sElyoD8S+",
      "include_colab_link": true
    },
    "kernelspec": {
      "name": "python3",
      "display_name": "Python 3"
    }
  },
  "cells": [
    {
      "cell_type": "markdown",
      "metadata": {
        "id": "view-in-github",
        "colab_type": "text"
      },
      "source": [
        "<a href=\"https://colab.research.google.com/github/AbdurRafiq/Medicare-Fraud-Detection-by-Data-Science/blob/master/Medicare_Fraud_detection.ipynb\" target=\"_parent\"><img src=\"https://colab.research.google.com/assets/colab-badge.svg\" alt=\"Open In Colab\"/></a>"
      ]
    },
    {
      "cell_type": "code",
      "metadata": {
        "id": "eRTACtxtEmne"
      },
      "source": [
        "import pandas as pd\n",
        "import numpy as np\n",
        "import math\n",
        "import random\n",
        "%matplotlib inline\n",
        "import random\n",
        "from matplotlib import pyplot"
      ],
      "execution_count": 1,
      "outputs": []
    },
    {
      "cell_type": "code",
      "metadata": {
        "id": "HQRzFjxhEs5x",
        "outputId": "816aec37-141f-4d6f-bef6-9f1c1d8cabf3",
        "colab": {
          "base_uri": "https://localhost:8080/",
          "height": 326
        }
      },
      "source": [
        "\n",
        "data = pd.read_csv(\"/content/drive/My Drive/code/Medicare.csv\")\n",
        "data.head()"
      ],
      "execution_count": 2,
      "outputs": [
        {
          "output_type": "execute_result",
          "data": {
            "text/html": [
              "<div>\n",
              "<style scoped>\n",
              "    .dataframe tbody tr th:only-of-type {\n",
              "        vertical-align: middle;\n",
              "    }\n",
              "\n",
              "    .dataframe tbody tr th {\n",
              "        vertical-align: top;\n",
              "    }\n",
              "\n",
              "    .dataframe thead th {\n",
              "        text-align: right;\n",
              "    }\n",
              "</style>\n",
              "<table border=\"1\" class=\"dataframe\">\n",
              "  <thead>\n",
              "    <tr style=\"text-align: right;\">\n",
              "      <th></th>\n",
              "      <th>npi</th>\n",
              "      <th>nppes_provider_gender</th>\n",
              "      <th>provider_type</th>\n",
              "      <th>hcpcs_code</th>\n",
              "      <th>line_srvc_cnt</th>\n",
              "      <th>bene_unique_cnt</th>\n",
              "      <th>bene_day_srvc_cnt</th>\n",
              "      <th>average_Medicare_allowed_amt</th>\n",
              "      <th>average_submitted_chrg_amt</th>\n",
              "      <th>average_Medicare_payment_amt</th>\n",
              "      <th>average_Medicare_standard_amt</th>\n",
              "      <th>FRAUD</th>\n",
              "      <th>Unnamed: 12</th>\n",
              "    </tr>\n",
              "  </thead>\n",
              "  <tbody>\n",
              "    <tr>\n",
              "      <th>0</th>\n",
              "      <td>1003127655</td>\n",
              "      <td>M</td>\n",
              "      <td>Internal Medicine</td>\n",
              "      <td>99223</td>\n",
              "      <td>617.0</td>\n",
              "      <td>499</td>\n",
              "      <td>617</td>\n",
              "      <td>219.944716</td>\n",
              "      <td>332.463533</td>\n",
              "      <td>170.918590</td>\n",
              "      <td>160.501297</td>\n",
              "      <td>1.0</td>\n",
              "      <td>NaN</td>\n",
              "    </tr>\n",
              "    <tr>\n",
              "      <th>1</th>\n",
              "      <td>1003127655</td>\n",
              "      <td>M</td>\n",
              "      <td>Internal Medicine</td>\n",
              "      <td>99231</td>\n",
              "      <td>249.0</td>\n",
              "      <td>17</td>\n",
              "      <td>249</td>\n",
              "      <td>42.570080</td>\n",
              "      <td>69.899598</td>\n",
              "      <td>33.024418</td>\n",
              "      <td>30.899317</td>\n",
              "      <td>1.0</td>\n",
              "      <td>NaN</td>\n",
              "    </tr>\n",
              "    <tr>\n",
              "      <th>2</th>\n",
              "      <td>1003127655</td>\n",
              "      <td>M</td>\n",
              "      <td>Internal Medicine</td>\n",
              "      <td>99232</td>\n",
              "      <td>1220.0</td>\n",
              "      <td>235</td>\n",
              "      <td>1220</td>\n",
              "      <td>78.414213</td>\n",
              "      <td>120.000000</td>\n",
              "      <td>61.340197</td>\n",
              "      <td>57.327828</td>\n",
              "      <td>1.0</td>\n",
              "      <td>NaN</td>\n",
              "    </tr>\n",
              "    <tr>\n",
              "      <th>3</th>\n",
              "      <td>1003127655</td>\n",
              "      <td>M</td>\n",
              "      <td>Internal Medicine</td>\n",
              "      <td>99233</td>\n",
              "      <td>754.0</td>\n",
              "      <td>434</td>\n",
              "      <td>754</td>\n",
              "      <td>113.284987</td>\n",
              "      <td>172.590186</td>\n",
              "      <td>88.611313</td>\n",
              "      <td>83.092427</td>\n",
              "      <td>1.0</td>\n",
              "      <td>NaN</td>\n",
              "    </tr>\n",
              "    <tr>\n",
              "      <th>4</th>\n",
              "      <td>1003127655</td>\n",
              "      <td>M</td>\n",
              "      <td>Internal Medicine</td>\n",
              "      <td>99239</td>\n",
              "      <td>543.0</td>\n",
              "      <td>448</td>\n",
              "      <td>543</td>\n",
              "      <td>117.852320</td>\n",
              "      <td>188.176796</td>\n",
              "      <td>91.907495</td>\n",
              "      <td>85.472413</td>\n",
              "      <td>1.0</td>\n",
              "      <td>NaN</td>\n",
              "    </tr>\n",
              "  </tbody>\n",
              "</table>\n",
              "</div>"
            ],
            "text/plain": [
              "          npi nppes_provider_gender  ... FRAUD Unnamed: 12\n",
              "0  1003127655                     M  ...   1.0         NaN\n",
              "1  1003127655                     M  ...   1.0         NaN\n",
              "2  1003127655                     M  ...   1.0         NaN\n",
              "3  1003127655                     M  ...   1.0         NaN\n",
              "4  1003127655                     M  ...   1.0         NaN\n",
              "\n",
              "[5 rows x 13 columns]"
            ]
          },
          "metadata": {
            "tags": []
          },
          "execution_count": 2
        }
      ]
    },
    {
      "cell_type": "code",
      "metadata": {
        "id": "Nr0sId5cE7Gg"
      },
      "source": [
        "df= data.drop(['Unnamed: 12'], axis=1)"
      ],
      "execution_count": 3,
      "outputs": []
    },
    {
      "cell_type": "code",
      "metadata": {
        "id": "YQJ1B7pVGxpN",
        "outputId": "44e9d512-6060-4014-9f3b-ad55514c6488",
        "colab": {
          "base_uri": "https://localhost:8080/",
          "height": 309
        }
      },
      "source": [
        "df.head(5)"
      ],
      "execution_count": 4,
      "outputs": [
        {
          "output_type": "execute_result",
          "data": {
            "text/html": [
              "<div>\n",
              "<style scoped>\n",
              "    .dataframe tbody tr th:only-of-type {\n",
              "        vertical-align: middle;\n",
              "    }\n",
              "\n",
              "    .dataframe tbody tr th {\n",
              "        vertical-align: top;\n",
              "    }\n",
              "\n",
              "    .dataframe thead th {\n",
              "        text-align: right;\n",
              "    }\n",
              "</style>\n",
              "<table border=\"1\" class=\"dataframe\">\n",
              "  <thead>\n",
              "    <tr style=\"text-align: right;\">\n",
              "      <th></th>\n",
              "      <th>npi</th>\n",
              "      <th>nppes_provider_gender</th>\n",
              "      <th>provider_type</th>\n",
              "      <th>hcpcs_code</th>\n",
              "      <th>line_srvc_cnt</th>\n",
              "      <th>bene_unique_cnt</th>\n",
              "      <th>bene_day_srvc_cnt</th>\n",
              "      <th>average_Medicare_allowed_amt</th>\n",
              "      <th>average_submitted_chrg_amt</th>\n",
              "      <th>average_Medicare_payment_amt</th>\n",
              "      <th>average_Medicare_standard_amt</th>\n",
              "      <th>FRAUD</th>\n",
              "    </tr>\n",
              "  </thead>\n",
              "  <tbody>\n",
              "    <tr>\n",
              "      <th>0</th>\n",
              "      <td>1003127655</td>\n",
              "      <td>M</td>\n",
              "      <td>Internal Medicine</td>\n",
              "      <td>99223</td>\n",
              "      <td>617.0</td>\n",
              "      <td>499</td>\n",
              "      <td>617</td>\n",
              "      <td>219.944716</td>\n",
              "      <td>332.463533</td>\n",
              "      <td>170.918590</td>\n",
              "      <td>160.501297</td>\n",
              "      <td>1.0</td>\n",
              "    </tr>\n",
              "    <tr>\n",
              "      <th>1</th>\n",
              "      <td>1003127655</td>\n",
              "      <td>M</td>\n",
              "      <td>Internal Medicine</td>\n",
              "      <td>99231</td>\n",
              "      <td>249.0</td>\n",
              "      <td>17</td>\n",
              "      <td>249</td>\n",
              "      <td>42.570080</td>\n",
              "      <td>69.899598</td>\n",
              "      <td>33.024418</td>\n",
              "      <td>30.899317</td>\n",
              "      <td>1.0</td>\n",
              "    </tr>\n",
              "    <tr>\n",
              "      <th>2</th>\n",
              "      <td>1003127655</td>\n",
              "      <td>M</td>\n",
              "      <td>Internal Medicine</td>\n",
              "      <td>99232</td>\n",
              "      <td>1220.0</td>\n",
              "      <td>235</td>\n",
              "      <td>1220</td>\n",
              "      <td>78.414213</td>\n",
              "      <td>120.000000</td>\n",
              "      <td>61.340197</td>\n",
              "      <td>57.327828</td>\n",
              "      <td>1.0</td>\n",
              "    </tr>\n",
              "    <tr>\n",
              "      <th>3</th>\n",
              "      <td>1003127655</td>\n",
              "      <td>M</td>\n",
              "      <td>Internal Medicine</td>\n",
              "      <td>99233</td>\n",
              "      <td>754.0</td>\n",
              "      <td>434</td>\n",
              "      <td>754</td>\n",
              "      <td>113.284987</td>\n",
              "      <td>172.590186</td>\n",
              "      <td>88.611313</td>\n",
              "      <td>83.092427</td>\n",
              "      <td>1.0</td>\n",
              "    </tr>\n",
              "    <tr>\n",
              "      <th>4</th>\n",
              "      <td>1003127655</td>\n",
              "      <td>M</td>\n",
              "      <td>Internal Medicine</td>\n",
              "      <td>99239</td>\n",
              "      <td>543.0</td>\n",
              "      <td>448</td>\n",
              "      <td>543</td>\n",
              "      <td>117.852320</td>\n",
              "      <td>188.176796</td>\n",
              "      <td>91.907495</td>\n",
              "      <td>85.472413</td>\n",
              "      <td>1.0</td>\n",
              "    </tr>\n",
              "  </tbody>\n",
              "</table>\n",
              "</div>"
            ],
            "text/plain": [
              "          npi nppes_provider_gender  ... average_Medicare_standard_amt FRAUD\n",
              "0  1003127655                     M  ...                    160.501297   1.0\n",
              "1  1003127655                     M  ...                     30.899317   1.0\n",
              "2  1003127655                     M  ...                     57.327828   1.0\n",
              "3  1003127655                     M  ...                     83.092427   1.0\n",
              "4  1003127655                     M  ...                     85.472413   1.0\n",
              "\n",
              "[5 rows x 12 columns]"
            ]
          },
          "metadata": {
            "tags": []
          },
          "execution_count": 4
        }
      ]
    },
    {
      "cell_type": "code",
      "metadata": {
        "id": "eyQvSgGCGzhc",
        "outputId": "8c4d838b-2bf2-494e-bfbe-cf13cd8c6026",
        "colab": {
          "base_uri": "https://localhost:8080/",
          "height": 238
        }
      },
      "source": [
        "df.isnull().any()"
      ],
      "execution_count": 5,
      "outputs": [
        {
          "output_type": "execute_result",
          "data": {
            "text/plain": [
              "npi                              False\n",
              "nppes_provider_gender             True\n",
              "provider_type                    False\n",
              "hcpcs_code                       False\n",
              "line_srvc_cnt                    False\n",
              "bene_unique_cnt                  False\n",
              "bene_day_srvc_cnt                False\n",
              "average_Medicare_allowed_amt     False\n",
              "average_submitted_chrg_amt       False\n",
              "average_Medicare_payment_amt     False\n",
              "average_Medicare_standard_amt    False\n",
              "FRAUD                            False\n",
              "dtype: bool"
            ]
          },
          "metadata": {
            "tags": []
          },
          "execution_count": 5
        }
      ]
    },
    {
      "cell_type": "code",
      "metadata": {
        "id": "RgqTLwh0HBw-",
        "outputId": "8e2e0beb-9044-4c84-97ff-69612bdbb967",
        "colab": {
          "base_uri": "https://localhost:8080/",
          "height": 221
        }
      },
      "source": [
        "df[\"nppes_provider_gender\"].fillna(\"M\")"
      ],
      "execution_count": 6,
      "outputs": [
        {
          "output_type": "execute_result",
          "data": {
            "text/plain": [
              "0        M\n",
              "1        M\n",
              "2        M\n",
              "3        M\n",
              "4        M\n",
              "        ..\n",
              "99995    M\n",
              "99996    M\n",
              "99997    M\n",
              "99998    M\n",
              "99999    M\n",
              "Name: nppes_provider_gender, Length: 100000, dtype: object"
            ]
          },
          "metadata": {
            "tags": []
          },
          "execution_count": 6
        }
      ]
    },
    {
      "cell_type": "code",
      "metadata": {
        "id": "2U5T7v6oHSHo",
        "outputId": "5164f0e5-eb39-42f4-98aa-3444bf9fd746",
        "colab": {
          "base_uri": "https://localhost:8080/",
          "height": 68
        }
      },
      "source": [
        "df[\"nppes_provider_gender\"].value_counts()\n"
      ],
      "execution_count": 7,
      "outputs": [
        {
          "output_type": "execute_result",
          "data": {
            "text/plain": [
              "M    66257\n",
              "F    29606\n",
              "Name: nppes_provider_gender, dtype: int64"
            ]
          },
          "metadata": {
            "tags": []
          },
          "execution_count": 7
        }
      ]
    },
    {
      "cell_type": "code",
      "metadata": {
        "id": "UxzPnunHHepD"
      },
      "source": [
        "dfnew= df.drop(columns=[\"FRAUD\"])\n",
        "fraud = df[\"FRAUD\"]"
      ],
      "execution_count": 8,
      "outputs": []
    },
    {
      "cell_type": "code",
      "metadata": {
        "id": "I1tD8_JvH7nj"
      },
      "source": [
        "Xnew=pd.get_dummies(dfnew)"
      ],
      "execution_count": 9,
      "outputs": []
    },
    {
      "cell_type": "code",
      "metadata": {
        "id": "rYDW9uoyH7q7",
        "outputId": "ff879335-4ade-407a-91a9-895b6267375a",
        "colab": {
          "base_uri": "https://localhost:8080/",
          "height": 287
        }
      },
      "source": [
        "Xnew.head()"
      ],
      "execution_count": 10,
      "outputs": [
        {
          "output_type": "execute_result",
          "data": {
            "text/html": [
              "<div>\n",
              "<style scoped>\n",
              "    .dataframe tbody tr th:only-of-type {\n",
              "        vertical-align: middle;\n",
              "    }\n",
              "\n",
              "    .dataframe tbody tr th {\n",
              "        vertical-align: top;\n",
              "    }\n",
              "\n",
              "    .dataframe thead th {\n",
              "        text-align: right;\n",
              "    }\n",
              "</style>\n",
              "<table border=\"1\" class=\"dataframe\">\n",
              "  <thead>\n",
              "    <tr style=\"text-align: right;\">\n",
              "      <th></th>\n",
              "      <th>npi</th>\n",
              "      <th>line_srvc_cnt</th>\n",
              "      <th>bene_unique_cnt</th>\n",
              "      <th>bene_day_srvc_cnt</th>\n",
              "      <th>average_Medicare_allowed_amt</th>\n",
              "      <th>average_submitted_chrg_amt</th>\n",
              "      <th>average_Medicare_payment_amt</th>\n",
              "      <th>average_Medicare_standard_amt</th>\n",
              "      <th>nppes_provider_gender_F</th>\n",
              "      <th>nppes_provider_gender_M</th>\n",
              "      <th>provider_type_All Other Suppliers</th>\n",
              "      <th>provider_type_Allergy/ Immunology</th>\n",
              "      <th>provider_type_Ambulance Service Provider</th>\n",
              "      <th>provider_type_Ambulatory Surgical Center</th>\n",
              "      <th>provider_type_Anesthesiology</th>\n",
              "      <th>provider_type_Anesthesiology Assistant</th>\n",
              "      <th>provider_type_Audiologist</th>\n",
              "      <th>provider_type_Cardiac Surgery</th>\n",
              "      <th>provider_type_Cardiology</th>\n",
              "      <th>provider_type_Centralized Flu</th>\n",
              "      <th>provider_type_Certified Clinical Nurse Specialist</th>\n",
              "      <th>provider_type_Certified Nurse Midwife</th>\n",
              "      <th>provider_type_Certified Registered Nurse Anesthetist (CRNA)</th>\n",
              "      <th>provider_type_Chiropractic</th>\n",
              "      <th>provider_type_Clinic or Group Practice</th>\n",
              "      <th>provider_type_Clinical Cardiac Electrophysiology</th>\n",
              "      <th>provider_type_Clinical Laboratory</th>\n",
              "      <th>provider_type_Colorectal Surgery (Proctology)</th>\n",
              "      <th>provider_type_Critical Care (Intensivists)</th>\n",
              "      <th>provider_type_Dermatology</th>\n",
              "      <th>provider_type_Diagnostic Radiology</th>\n",
              "      <th>provider_type_Emergency Medicine</th>\n",
              "      <th>provider_type_Endocrinology</th>\n",
              "      <th>provider_type_Family Practice</th>\n",
              "      <th>provider_type_Gastroenterology</th>\n",
              "      <th>provider_type_General Practice</th>\n",
              "      <th>provider_type_General Surgery</th>\n",
              "      <th>provider_type_Geriatric Medicine</th>\n",
              "      <th>provider_type_Geriatric Psychiatry</th>\n",
              "      <th>provider_type_Gynecological Oncology</th>\n",
              "      <th>...</th>\n",
              "      <th>hcpcs_code_J9310</th>\n",
              "      <th>hcpcs_code_J9355</th>\n",
              "      <th>hcpcs_code_J9395</th>\n",
              "      <th>hcpcs_code_J9999</th>\n",
              "      <th>hcpcs_code_P9603</th>\n",
              "      <th>hcpcs_code_P9604</th>\n",
              "      <th>hcpcs_code_P9612</th>\n",
              "      <th>hcpcs_code_P9615</th>\n",
              "      <th>hcpcs_code_Q0091</th>\n",
              "      <th>hcpcs_code_Q0092</th>\n",
              "      <th>hcpcs_code_Q0111</th>\n",
              "      <th>hcpcs_code_Q0112</th>\n",
              "      <th>hcpcs_code_Q0138</th>\n",
              "      <th>hcpcs_code_Q2035</th>\n",
              "      <th>hcpcs_code_Q2036</th>\n",
              "      <th>hcpcs_code_Q2037</th>\n",
              "      <th>hcpcs_code_Q2038</th>\n",
              "      <th>hcpcs_code_Q2039</th>\n",
              "      <th>hcpcs_code_Q3014</th>\n",
              "      <th>hcpcs_code_Q4010</th>\n",
              "      <th>hcpcs_code_Q4021</th>\n",
              "      <th>hcpcs_code_Q4022</th>\n",
              "      <th>hcpcs_code_Q4037</th>\n",
              "      <th>hcpcs_code_Q4038</th>\n",
              "      <th>hcpcs_code_Q4045</th>\n",
              "      <th>hcpcs_code_Q4049</th>\n",
              "      <th>hcpcs_code_Q4102</th>\n",
              "      <th>hcpcs_code_Q4131</th>\n",
              "      <th>hcpcs_code_Q4133</th>\n",
              "      <th>hcpcs_code_Q5101</th>\n",
              "      <th>hcpcs_code_Q5102</th>\n",
              "      <th>hcpcs_code_Q9956</th>\n",
              "      <th>hcpcs_code_Q9957</th>\n",
              "      <th>hcpcs_code_Q9958</th>\n",
              "      <th>hcpcs_code_Q9961</th>\n",
              "      <th>hcpcs_code_Q9965</th>\n",
              "      <th>hcpcs_code_Q9966</th>\n",
              "      <th>hcpcs_code_Q9967</th>\n",
              "      <th>hcpcs_code_R0070</th>\n",
              "      <th>hcpcs_code_R0075</th>\n",
              "    </tr>\n",
              "  </thead>\n",
              "  <tbody>\n",
              "    <tr>\n",
              "      <th>0</th>\n",
              "      <td>1003127655</td>\n",
              "      <td>617.0</td>\n",
              "      <td>499</td>\n",
              "      <td>617</td>\n",
              "      <td>219.944716</td>\n",
              "      <td>332.463533</td>\n",
              "      <td>170.918590</td>\n",
              "      <td>160.501297</td>\n",
              "      <td>0</td>\n",
              "      <td>1</td>\n",
              "      <td>0</td>\n",
              "      <td>0</td>\n",
              "      <td>0</td>\n",
              "      <td>0</td>\n",
              "      <td>0</td>\n",
              "      <td>0</td>\n",
              "      <td>0</td>\n",
              "      <td>0</td>\n",
              "      <td>0</td>\n",
              "      <td>0</td>\n",
              "      <td>0</td>\n",
              "      <td>0</td>\n",
              "      <td>0</td>\n",
              "      <td>0</td>\n",
              "      <td>0</td>\n",
              "      <td>0</td>\n",
              "      <td>0</td>\n",
              "      <td>0</td>\n",
              "      <td>0</td>\n",
              "      <td>0</td>\n",
              "      <td>0</td>\n",
              "      <td>0</td>\n",
              "      <td>0</td>\n",
              "      <td>0</td>\n",
              "      <td>0</td>\n",
              "      <td>0</td>\n",
              "      <td>0</td>\n",
              "      <td>0</td>\n",
              "      <td>0</td>\n",
              "      <td>0</td>\n",
              "      <td>...</td>\n",
              "      <td>0</td>\n",
              "      <td>0</td>\n",
              "      <td>0</td>\n",
              "      <td>0</td>\n",
              "      <td>0</td>\n",
              "      <td>0</td>\n",
              "      <td>0</td>\n",
              "      <td>0</td>\n",
              "      <td>0</td>\n",
              "      <td>0</td>\n",
              "      <td>0</td>\n",
              "      <td>0</td>\n",
              "      <td>0</td>\n",
              "      <td>0</td>\n",
              "      <td>0</td>\n",
              "      <td>0</td>\n",
              "      <td>0</td>\n",
              "      <td>0</td>\n",
              "      <td>0</td>\n",
              "      <td>0</td>\n",
              "      <td>0</td>\n",
              "      <td>0</td>\n",
              "      <td>0</td>\n",
              "      <td>0</td>\n",
              "      <td>0</td>\n",
              "      <td>0</td>\n",
              "      <td>0</td>\n",
              "      <td>0</td>\n",
              "      <td>0</td>\n",
              "      <td>0</td>\n",
              "      <td>0</td>\n",
              "      <td>0</td>\n",
              "      <td>0</td>\n",
              "      <td>0</td>\n",
              "      <td>0</td>\n",
              "      <td>0</td>\n",
              "      <td>0</td>\n",
              "      <td>0</td>\n",
              "      <td>0</td>\n",
              "      <td>0</td>\n",
              "    </tr>\n",
              "    <tr>\n",
              "      <th>1</th>\n",
              "      <td>1003127655</td>\n",
              "      <td>249.0</td>\n",
              "      <td>17</td>\n",
              "      <td>249</td>\n",
              "      <td>42.570080</td>\n",
              "      <td>69.899598</td>\n",
              "      <td>33.024418</td>\n",
              "      <td>30.899317</td>\n",
              "      <td>0</td>\n",
              "      <td>1</td>\n",
              "      <td>0</td>\n",
              "      <td>0</td>\n",
              "      <td>0</td>\n",
              "      <td>0</td>\n",
              "      <td>0</td>\n",
              "      <td>0</td>\n",
              "      <td>0</td>\n",
              "      <td>0</td>\n",
              "      <td>0</td>\n",
              "      <td>0</td>\n",
              "      <td>0</td>\n",
              "      <td>0</td>\n",
              "      <td>0</td>\n",
              "      <td>0</td>\n",
              "      <td>0</td>\n",
              "      <td>0</td>\n",
              "      <td>0</td>\n",
              "      <td>0</td>\n",
              "      <td>0</td>\n",
              "      <td>0</td>\n",
              "      <td>0</td>\n",
              "      <td>0</td>\n",
              "      <td>0</td>\n",
              "      <td>0</td>\n",
              "      <td>0</td>\n",
              "      <td>0</td>\n",
              "      <td>0</td>\n",
              "      <td>0</td>\n",
              "      <td>0</td>\n",
              "      <td>0</td>\n",
              "      <td>...</td>\n",
              "      <td>0</td>\n",
              "      <td>0</td>\n",
              "      <td>0</td>\n",
              "      <td>0</td>\n",
              "      <td>0</td>\n",
              "      <td>0</td>\n",
              "      <td>0</td>\n",
              "      <td>0</td>\n",
              "      <td>0</td>\n",
              "      <td>0</td>\n",
              "      <td>0</td>\n",
              "      <td>0</td>\n",
              "      <td>0</td>\n",
              "      <td>0</td>\n",
              "      <td>0</td>\n",
              "      <td>0</td>\n",
              "      <td>0</td>\n",
              "      <td>0</td>\n",
              "      <td>0</td>\n",
              "      <td>0</td>\n",
              "      <td>0</td>\n",
              "      <td>0</td>\n",
              "      <td>0</td>\n",
              "      <td>0</td>\n",
              "      <td>0</td>\n",
              "      <td>0</td>\n",
              "      <td>0</td>\n",
              "      <td>0</td>\n",
              "      <td>0</td>\n",
              "      <td>0</td>\n",
              "      <td>0</td>\n",
              "      <td>0</td>\n",
              "      <td>0</td>\n",
              "      <td>0</td>\n",
              "      <td>0</td>\n",
              "      <td>0</td>\n",
              "      <td>0</td>\n",
              "      <td>0</td>\n",
              "      <td>0</td>\n",
              "      <td>0</td>\n",
              "    </tr>\n",
              "    <tr>\n",
              "      <th>2</th>\n",
              "      <td>1003127655</td>\n",
              "      <td>1220.0</td>\n",
              "      <td>235</td>\n",
              "      <td>1220</td>\n",
              "      <td>78.414213</td>\n",
              "      <td>120.000000</td>\n",
              "      <td>61.340197</td>\n",
              "      <td>57.327828</td>\n",
              "      <td>0</td>\n",
              "      <td>1</td>\n",
              "      <td>0</td>\n",
              "      <td>0</td>\n",
              "      <td>0</td>\n",
              "      <td>0</td>\n",
              "      <td>0</td>\n",
              "      <td>0</td>\n",
              "      <td>0</td>\n",
              "      <td>0</td>\n",
              "      <td>0</td>\n",
              "      <td>0</td>\n",
              "      <td>0</td>\n",
              "      <td>0</td>\n",
              "      <td>0</td>\n",
              "      <td>0</td>\n",
              "      <td>0</td>\n",
              "      <td>0</td>\n",
              "      <td>0</td>\n",
              "      <td>0</td>\n",
              "      <td>0</td>\n",
              "      <td>0</td>\n",
              "      <td>0</td>\n",
              "      <td>0</td>\n",
              "      <td>0</td>\n",
              "      <td>0</td>\n",
              "      <td>0</td>\n",
              "      <td>0</td>\n",
              "      <td>0</td>\n",
              "      <td>0</td>\n",
              "      <td>0</td>\n",
              "      <td>0</td>\n",
              "      <td>...</td>\n",
              "      <td>0</td>\n",
              "      <td>0</td>\n",
              "      <td>0</td>\n",
              "      <td>0</td>\n",
              "      <td>0</td>\n",
              "      <td>0</td>\n",
              "      <td>0</td>\n",
              "      <td>0</td>\n",
              "      <td>0</td>\n",
              "      <td>0</td>\n",
              "      <td>0</td>\n",
              "      <td>0</td>\n",
              "      <td>0</td>\n",
              "      <td>0</td>\n",
              "      <td>0</td>\n",
              "      <td>0</td>\n",
              "      <td>0</td>\n",
              "      <td>0</td>\n",
              "      <td>0</td>\n",
              "      <td>0</td>\n",
              "      <td>0</td>\n",
              "      <td>0</td>\n",
              "      <td>0</td>\n",
              "      <td>0</td>\n",
              "      <td>0</td>\n",
              "      <td>0</td>\n",
              "      <td>0</td>\n",
              "      <td>0</td>\n",
              "      <td>0</td>\n",
              "      <td>0</td>\n",
              "      <td>0</td>\n",
              "      <td>0</td>\n",
              "      <td>0</td>\n",
              "      <td>0</td>\n",
              "      <td>0</td>\n",
              "      <td>0</td>\n",
              "      <td>0</td>\n",
              "      <td>0</td>\n",
              "      <td>0</td>\n",
              "      <td>0</td>\n",
              "    </tr>\n",
              "    <tr>\n",
              "      <th>3</th>\n",
              "      <td>1003127655</td>\n",
              "      <td>754.0</td>\n",
              "      <td>434</td>\n",
              "      <td>754</td>\n",
              "      <td>113.284987</td>\n",
              "      <td>172.590186</td>\n",
              "      <td>88.611313</td>\n",
              "      <td>83.092427</td>\n",
              "      <td>0</td>\n",
              "      <td>1</td>\n",
              "      <td>0</td>\n",
              "      <td>0</td>\n",
              "      <td>0</td>\n",
              "      <td>0</td>\n",
              "      <td>0</td>\n",
              "      <td>0</td>\n",
              "      <td>0</td>\n",
              "      <td>0</td>\n",
              "      <td>0</td>\n",
              "      <td>0</td>\n",
              "      <td>0</td>\n",
              "      <td>0</td>\n",
              "      <td>0</td>\n",
              "      <td>0</td>\n",
              "      <td>0</td>\n",
              "      <td>0</td>\n",
              "      <td>0</td>\n",
              "      <td>0</td>\n",
              "      <td>0</td>\n",
              "      <td>0</td>\n",
              "      <td>0</td>\n",
              "      <td>0</td>\n",
              "      <td>0</td>\n",
              "      <td>0</td>\n",
              "      <td>0</td>\n",
              "      <td>0</td>\n",
              "      <td>0</td>\n",
              "      <td>0</td>\n",
              "      <td>0</td>\n",
              "      <td>0</td>\n",
              "      <td>...</td>\n",
              "      <td>0</td>\n",
              "      <td>0</td>\n",
              "      <td>0</td>\n",
              "      <td>0</td>\n",
              "      <td>0</td>\n",
              "      <td>0</td>\n",
              "      <td>0</td>\n",
              "      <td>0</td>\n",
              "      <td>0</td>\n",
              "      <td>0</td>\n",
              "      <td>0</td>\n",
              "      <td>0</td>\n",
              "      <td>0</td>\n",
              "      <td>0</td>\n",
              "      <td>0</td>\n",
              "      <td>0</td>\n",
              "      <td>0</td>\n",
              "      <td>0</td>\n",
              "      <td>0</td>\n",
              "      <td>0</td>\n",
              "      <td>0</td>\n",
              "      <td>0</td>\n",
              "      <td>0</td>\n",
              "      <td>0</td>\n",
              "      <td>0</td>\n",
              "      <td>0</td>\n",
              "      <td>0</td>\n",
              "      <td>0</td>\n",
              "      <td>0</td>\n",
              "      <td>0</td>\n",
              "      <td>0</td>\n",
              "      <td>0</td>\n",
              "      <td>0</td>\n",
              "      <td>0</td>\n",
              "      <td>0</td>\n",
              "      <td>0</td>\n",
              "      <td>0</td>\n",
              "      <td>0</td>\n",
              "      <td>0</td>\n",
              "      <td>0</td>\n",
              "    </tr>\n",
              "    <tr>\n",
              "      <th>4</th>\n",
              "      <td>1003127655</td>\n",
              "      <td>543.0</td>\n",
              "      <td>448</td>\n",
              "      <td>543</td>\n",
              "      <td>117.852320</td>\n",
              "      <td>188.176796</td>\n",
              "      <td>91.907495</td>\n",
              "      <td>85.472413</td>\n",
              "      <td>0</td>\n",
              "      <td>1</td>\n",
              "      <td>0</td>\n",
              "      <td>0</td>\n",
              "      <td>0</td>\n",
              "      <td>0</td>\n",
              "      <td>0</td>\n",
              "      <td>0</td>\n",
              "      <td>0</td>\n",
              "      <td>0</td>\n",
              "      <td>0</td>\n",
              "      <td>0</td>\n",
              "      <td>0</td>\n",
              "      <td>0</td>\n",
              "      <td>0</td>\n",
              "      <td>0</td>\n",
              "      <td>0</td>\n",
              "      <td>0</td>\n",
              "      <td>0</td>\n",
              "      <td>0</td>\n",
              "      <td>0</td>\n",
              "      <td>0</td>\n",
              "      <td>0</td>\n",
              "      <td>0</td>\n",
              "      <td>0</td>\n",
              "      <td>0</td>\n",
              "      <td>0</td>\n",
              "      <td>0</td>\n",
              "      <td>0</td>\n",
              "      <td>0</td>\n",
              "      <td>0</td>\n",
              "      <td>0</td>\n",
              "      <td>...</td>\n",
              "      <td>0</td>\n",
              "      <td>0</td>\n",
              "      <td>0</td>\n",
              "      <td>0</td>\n",
              "      <td>0</td>\n",
              "      <td>0</td>\n",
              "      <td>0</td>\n",
              "      <td>0</td>\n",
              "      <td>0</td>\n",
              "      <td>0</td>\n",
              "      <td>0</td>\n",
              "      <td>0</td>\n",
              "      <td>0</td>\n",
              "      <td>0</td>\n",
              "      <td>0</td>\n",
              "      <td>0</td>\n",
              "      <td>0</td>\n",
              "      <td>0</td>\n",
              "      <td>0</td>\n",
              "      <td>0</td>\n",
              "      <td>0</td>\n",
              "      <td>0</td>\n",
              "      <td>0</td>\n",
              "      <td>0</td>\n",
              "      <td>0</td>\n",
              "      <td>0</td>\n",
              "      <td>0</td>\n",
              "      <td>0</td>\n",
              "      <td>0</td>\n",
              "      <td>0</td>\n",
              "      <td>0</td>\n",
              "      <td>0</td>\n",
              "      <td>0</td>\n",
              "      <td>0</td>\n",
              "      <td>0</td>\n",
              "      <td>0</td>\n",
              "      <td>0</td>\n",
              "      <td>0</td>\n",
              "      <td>0</td>\n",
              "      <td>0</td>\n",
              "    </tr>\n",
              "  </tbody>\n",
              "</table>\n",
              "<p>5 rows × 2597 columns</p>\n",
              "</div>"
            ],
            "text/plain": [
              "          npi  line_srvc_cnt  ...  hcpcs_code_R0070  hcpcs_code_R0075\n",
              "0  1003127655          617.0  ...                 0                 0\n",
              "1  1003127655          249.0  ...                 0                 0\n",
              "2  1003127655         1220.0  ...                 0                 0\n",
              "3  1003127655          754.0  ...                 0                 0\n",
              "4  1003127655          543.0  ...                 0                 0\n",
              "\n",
              "[5 rows x 2597 columns]"
            ]
          },
          "metadata": {
            "tags": []
          },
          "execution_count": 10
        }
      ]
    },
    {
      "cell_type": "code",
      "metadata": {
        "id": "bmXLFz0UIyUg"
      },
      "source": [
        "Xnew[\"Fraud\"] = df[\"FRAUD\"]"
      ],
      "execution_count": 11,
      "outputs": []
    },
    {
      "cell_type": "code",
      "metadata": {
        "id": "PnKaYIjOJCRr",
        "outputId": "a9192864-d778-457b-c3f3-5c839ba6a402",
        "colab": {
          "base_uri": "https://localhost:8080/",
          "height": 287
        }
      },
      "source": [
        "Xnew.head()"
      ],
      "execution_count": 12,
      "outputs": [
        {
          "output_type": "execute_result",
          "data": {
            "text/html": [
              "<div>\n",
              "<style scoped>\n",
              "    .dataframe tbody tr th:only-of-type {\n",
              "        vertical-align: middle;\n",
              "    }\n",
              "\n",
              "    .dataframe tbody tr th {\n",
              "        vertical-align: top;\n",
              "    }\n",
              "\n",
              "    .dataframe thead th {\n",
              "        text-align: right;\n",
              "    }\n",
              "</style>\n",
              "<table border=\"1\" class=\"dataframe\">\n",
              "  <thead>\n",
              "    <tr style=\"text-align: right;\">\n",
              "      <th></th>\n",
              "      <th>npi</th>\n",
              "      <th>line_srvc_cnt</th>\n",
              "      <th>bene_unique_cnt</th>\n",
              "      <th>bene_day_srvc_cnt</th>\n",
              "      <th>average_Medicare_allowed_amt</th>\n",
              "      <th>average_submitted_chrg_amt</th>\n",
              "      <th>average_Medicare_payment_amt</th>\n",
              "      <th>average_Medicare_standard_amt</th>\n",
              "      <th>nppes_provider_gender_F</th>\n",
              "      <th>nppes_provider_gender_M</th>\n",
              "      <th>provider_type_All Other Suppliers</th>\n",
              "      <th>provider_type_Allergy/ Immunology</th>\n",
              "      <th>provider_type_Ambulance Service Provider</th>\n",
              "      <th>provider_type_Ambulatory Surgical Center</th>\n",
              "      <th>provider_type_Anesthesiology</th>\n",
              "      <th>provider_type_Anesthesiology Assistant</th>\n",
              "      <th>provider_type_Audiologist</th>\n",
              "      <th>provider_type_Cardiac Surgery</th>\n",
              "      <th>provider_type_Cardiology</th>\n",
              "      <th>provider_type_Centralized Flu</th>\n",
              "      <th>provider_type_Certified Clinical Nurse Specialist</th>\n",
              "      <th>provider_type_Certified Nurse Midwife</th>\n",
              "      <th>provider_type_Certified Registered Nurse Anesthetist (CRNA)</th>\n",
              "      <th>provider_type_Chiropractic</th>\n",
              "      <th>provider_type_Clinic or Group Practice</th>\n",
              "      <th>provider_type_Clinical Cardiac Electrophysiology</th>\n",
              "      <th>provider_type_Clinical Laboratory</th>\n",
              "      <th>provider_type_Colorectal Surgery (Proctology)</th>\n",
              "      <th>provider_type_Critical Care (Intensivists)</th>\n",
              "      <th>provider_type_Dermatology</th>\n",
              "      <th>provider_type_Diagnostic Radiology</th>\n",
              "      <th>provider_type_Emergency Medicine</th>\n",
              "      <th>provider_type_Endocrinology</th>\n",
              "      <th>provider_type_Family Practice</th>\n",
              "      <th>provider_type_Gastroenterology</th>\n",
              "      <th>provider_type_General Practice</th>\n",
              "      <th>provider_type_General Surgery</th>\n",
              "      <th>provider_type_Geriatric Medicine</th>\n",
              "      <th>provider_type_Geriatric Psychiatry</th>\n",
              "      <th>provider_type_Gynecological Oncology</th>\n",
              "      <th>...</th>\n",
              "      <th>hcpcs_code_J9355</th>\n",
              "      <th>hcpcs_code_J9395</th>\n",
              "      <th>hcpcs_code_J9999</th>\n",
              "      <th>hcpcs_code_P9603</th>\n",
              "      <th>hcpcs_code_P9604</th>\n",
              "      <th>hcpcs_code_P9612</th>\n",
              "      <th>hcpcs_code_P9615</th>\n",
              "      <th>hcpcs_code_Q0091</th>\n",
              "      <th>hcpcs_code_Q0092</th>\n",
              "      <th>hcpcs_code_Q0111</th>\n",
              "      <th>hcpcs_code_Q0112</th>\n",
              "      <th>hcpcs_code_Q0138</th>\n",
              "      <th>hcpcs_code_Q2035</th>\n",
              "      <th>hcpcs_code_Q2036</th>\n",
              "      <th>hcpcs_code_Q2037</th>\n",
              "      <th>hcpcs_code_Q2038</th>\n",
              "      <th>hcpcs_code_Q2039</th>\n",
              "      <th>hcpcs_code_Q3014</th>\n",
              "      <th>hcpcs_code_Q4010</th>\n",
              "      <th>hcpcs_code_Q4021</th>\n",
              "      <th>hcpcs_code_Q4022</th>\n",
              "      <th>hcpcs_code_Q4037</th>\n",
              "      <th>hcpcs_code_Q4038</th>\n",
              "      <th>hcpcs_code_Q4045</th>\n",
              "      <th>hcpcs_code_Q4049</th>\n",
              "      <th>hcpcs_code_Q4102</th>\n",
              "      <th>hcpcs_code_Q4131</th>\n",
              "      <th>hcpcs_code_Q4133</th>\n",
              "      <th>hcpcs_code_Q5101</th>\n",
              "      <th>hcpcs_code_Q5102</th>\n",
              "      <th>hcpcs_code_Q9956</th>\n",
              "      <th>hcpcs_code_Q9957</th>\n",
              "      <th>hcpcs_code_Q9958</th>\n",
              "      <th>hcpcs_code_Q9961</th>\n",
              "      <th>hcpcs_code_Q9965</th>\n",
              "      <th>hcpcs_code_Q9966</th>\n",
              "      <th>hcpcs_code_Q9967</th>\n",
              "      <th>hcpcs_code_R0070</th>\n",
              "      <th>hcpcs_code_R0075</th>\n",
              "      <th>Fraud</th>\n",
              "    </tr>\n",
              "  </thead>\n",
              "  <tbody>\n",
              "    <tr>\n",
              "      <th>0</th>\n",
              "      <td>1003127655</td>\n",
              "      <td>617.0</td>\n",
              "      <td>499</td>\n",
              "      <td>617</td>\n",
              "      <td>219.944716</td>\n",
              "      <td>332.463533</td>\n",
              "      <td>170.918590</td>\n",
              "      <td>160.501297</td>\n",
              "      <td>0</td>\n",
              "      <td>1</td>\n",
              "      <td>0</td>\n",
              "      <td>0</td>\n",
              "      <td>0</td>\n",
              "      <td>0</td>\n",
              "      <td>0</td>\n",
              "      <td>0</td>\n",
              "      <td>0</td>\n",
              "      <td>0</td>\n",
              "      <td>0</td>\n",
              "      <td>0</td>\n",
              "      <td>0</td>\n",
              "      <td>0</td>\n",
              "      <td>0</td>\n",
              "      <td>0</td>\n",
              "      <td>0</td>\n",
              "      <td>0</td>\n",
              "      <td>0</td>\n",
              "      <td>0</td>\n",
              "      <td>0</td>\n",
              "      <td>0</td>\n",
              "      <td>0</td>\n",
              "      <td>0</td>\n",
              "      <td>0</td>\n",
              "      <td>0</td>\n",
              "      <td>0</td>\n",
              "      <td>0</td>\n",
              "      <td>0</td>\n",
              "      <td>0</td>\n",
              "      <td>0</td>\n",
              "      <td>0</td>\n",
              "      <td>...</td>\n",
              "      <td>0</td>\n",
              "      <td>0</td>\n",
              "      <td>0</td>\n",
              "      <td>0</td>\n",
              "      <td>0</td>\n",
              "      <td>0</td>\n",
              "      <td>0</td>\n",
              "      <td>0</td>\n",
              "      <td>0</td>\n",
              "      <td>0</td>\n",
              "      <td>0</td>\n",
              "      <td>0</td>\n",
              "      <td>0</td>\n",
              "      <td>0</td>\n",
              "      <td>0</td>\n",
              "      <td>0</td>\n",
              "      <td>0</td>\n",
              "      <td>0</td>\n",
              "      <td>0</td>\n",
              "      <td>0</td>\n",
              "      <td>0</td>\n",
              "      <td>0</td>\n",
              "      <td>0</td>\n",
              "      <td>0</td>\n",
              "      <td>0</td>\n",
              "      <td>0</td>\n",
              "      <td>0</td>\n",
              "      <td>0</td>\n",
              "      <td>0</td>\n",
              "      <td>0</td>\n",
              "      <td>0</td>\n",
              "      <td>0</td>\n",
              "      <td>0</td>\n",
              "      <td>0</td>\n",
              "      <td>0</td>\n",
              "      <td>0</td>\n",
              "      <td>0</td>\n",
              "      <td>0</td>\n",
              "      <td>0</td>\n",
              "      <td>1.0</td>\n",
              "    </tr>\n",
              "    <tr>\n",
              "      <th>1</th>\n",
              "      <td>1003127655</td>\n",
              "      <td>249.0</td>\n",
              "      <td>17</td>\n",
              "      <td>249</td>\n",
              "      <td>42.570080</td>\n",
              "      <td>69.899598</td>\n",
              "      <td>33.024418</td>\n",
              "      <td>30.899317</td>\n",
              "      <td>0</td>\n",
              "      <td>1</td>\n",
              "      <td>0</td>\n",
              "      <td>0</td>\n",
              "      <td>0</td>\n",
              "      <td>0</td>\n",
              "      <td>0</td>\n",
              "      <td>0</td>\n",
              "      <td>0</td>\n",
              "      <td>0</td>\n",
              "      <td>0</td>\n",
              "      <td>0</td>\n",
              "      <td>0</td>\n",
              "      <td>0</td>\n",
              "      <td>0</td>\n",
              "      <td>0</td>\n",
              "      <td>0</td>\n",
              "      <td>0</td>\n",
              "      <td>0</td>\n",
              "      <td>0</td>\n",
              "      <td>0</td>\n",
              "      <td>0</td>\n",
              "      <td>0</td>\n",
              "      <td>0</td>\n",
              "      <td>0</td>\n",
              "      <td>0</td>\n",
              "      <td>0</td>\n",
              "      <td>0</td>\n",
              "      <td>0</td>\n",
              "      <td>0</td>\n",
              "      <td>0</td>\n",
              "      <td>0</td>\n",
              "      <td>...</td>\n",
              "      <td>0</td>\n",
              "      <td>0</td>\n",
              "      <td>0</td>\n",
              "      <td>0</td>\n",
              "      <td>0</td>\n",
              "      <td>0</td>\n",
              "      <td>0</td>\n",
              "      <td>0</td>\n",
              "      <td>0</td>\n",
              "      <td>0</td>\n",
              "      <td>0</td>\n",
              "      <td>0</td>\n",
              "      <td>0</td>\n",
              "      <td>0</td>\n",
              "      <td>0</td>\n",
              "      <td>0</td>\n",
              "      <td>0</td>\n",
              "      <td>0</td>\n",
              "      <td>0</td>\n",
              "      <td>0</td>\n",
              "      <td>0</td>\n",
              "      <td>0</td>\n",
              "      <td>0</td>\n",
              "      <td>0</td>\n",
              "      <td>0</td>\n",
              "      <td>0</td>\n",
              "      <td>0</td>\n",
              "      <td>0</td>\n",
              "      <td>0</td>\n",
              "      <td>0</td>\n",
              "      <td>0</td>\n",
              "      <td>0</td>\n",
              "      <td>0</td>\n",
              "      <td>0</td>\n",
              "      <td>0</td>\n",
              "      <td>0</td>\n",
              "      <td>0</td>\n",
              "      <td>0</td>\n",
              "      <td>0</td>\n",
              "      <td>1.0</td>\n",
              "    </tr>\n",
              "    <tr>\n",
              "      <th>2</th>\n",
              "      <td>1003127655</td>\n",
              "      <td>1220.0</td>\n",
              "      <td>235</td>\n",
              "      <td>1220</td>\n",
              "      <td>78.414213</td>\n",
              "      <td>120.000000</td>\n",
              "      <td>61.340197</td>\n",
              "      <td>57.327828</td>\n",
              "      <td>0</td>\n",
              "      <td>1</td>\n",
              "      <td>0</td>\n",
              "      <td>0</td>\n",
              "      <td>0</td>\n",
              "      <td>0</td>\n",
              "      <td>0</td>\n",
              "      <td>0</td>\n",
              "      <td>0</td>\n",
              "      <td>0</td>\n",
              "      <td>0</td>\n",
              "      <td>0</td>\n",
              "      <td>0</td>\n",
              "      <td>0</td>\n",
              "      <td>0</td>\n",
              "      <td>0</td>\n",
              "      <td>0</td>\n",
              "      <td>0</td>\n",
              "      <td>0</td>\n",
              "      <td>0</td>\n",
              "      <td>0</td>\n",
              "      <td>0</td>\n",
              "      <td>0</td>\n",
              "      <td>0</td>\n",
              "      <td>0</td>\n",
              "      <td>0</td>\n",
              "      <td>0</td>\n",
              "      <td>0</td>\n",
              "      <td>0</td>\n",
              "      <td>0</td>\n",
              "      <td>0</td>\n",
              "      <td>0</td>\n",
              "      <td>...</td>\n",
              "      <td>0</td>\n",
              "      <td>0</td>\n",
              "      <td>0</td>\n",
              "      <td>0</td>\n",
              "      <td>0</td>\n",
              "      <td>0</td>\n",
              "      <td>0</td>\n",
              "      <td>0</td>\n",
              "      <td>0</td>\n",
              "      <td>0</td>\n",
              "      <td>0</td>\n",
              "      <td>0</td>\n",
              "      <td>0</td>\n",
              "      <td>0</td>\n",
              "      <td>0</td>\n",
              "      <td>0</td>\n",
              "      <td>0</td>\n",
              "      <td>0</td>\n",
              "      <td>0</td>\n",
              "      <td>0</td>\n",
              "      <td>0</td>\n",
              "      <td>0</td>\n",
              "      <td>0</td>\n",
              "      <td>0</td>\n",
              "      <td>0</td>\n",
              "      <td>0</td>\n",
              "      <td>0</td>\n",
              "      <td>0</td>\n",
              "      <td>0</td>\n",
              "      <td>0</td>\n",
              "      <td>0</td>\n",
              "      <td>0</td>\n",
              "      <td>0</td>\n",
              "      <td>0</td>\n",
              "      <td>0</td>\n",
              "      <td>0</td>\n",
              "      <td>0</td>\n",
              "      <td>0</td>\n",
              "      <td>0</td>\n",
              "      <td>1.0</td>\n",
              "    </tr>\n",
              "    <tr>\n",
              "      <th>3</th>\n",
              "      <td>1003127655</td>\n",
              "      <td>754.0</td>\n",
              "      <td>434</td>\n",
              "      <td>754</td>\n",
              "      <td>113.284987</td>\n",
              "      <td>172.590186</td>\n",
              "      <td>88.611313</td>\n",
              "      <td>83.092427</td>\n",
              "      <td>0</td>\n",
              "      <td>1</td>\n",
              "      <td>0</td>\n",
              "      <td>0</td>\n",
              "      <td>0</td>\n",
              "      <td>0</td>\n",
              "      <td>0</td>\n",
              "      <td>0</td>\n",
              "      <td>0</td>\n",
              "      <td>0</td>\n",
              "      <td>0</td>\n",
              "      <td>0</td>\n",
              "      <td>0</td>\n",
              "      <td>0</td>\n",
              "      <td>0</td>\n",
              "      <td>0</td>\n",
              "      <td>0</td>\n",
              "      <td>0</td>\n",
              "      <td>0</td>\n",
              "      <td>0</td>\n",
              "      <td>0</td>\n",
              "      <td>0</td>\n",
              "      <td>0</td>\n",
              "      <td>0</td>\n",
              "      <td>0</td>\n",
              "      <td>0</td>\n",
              "      <td>0</td>\n",
              "      <td>0</td>\n",
              "      <td>0</td>\n",
              "      <td>0</td>\n",
              "      <td>0</td>\n",
              "      <td>0</td>\n",
              "      <td>...</td>\n",
              "      <td>0</td>\n",
              "      <td>0</td>\n",
              "      <td>0</td>\n",
              "      <td>0</td>\n",
              "      <td>0</td>\n",
              "      <td>0</td>\n",
              "      <td>0</td>\n",
              "      <td>0</td>\n",
              "      <td>0</td>\n",
              "      <td>0</td>\n",
              "      <td>0</td>\n",
              "      <td>0</td>\n",
              "      <td>0</td>\n",
              "      <td>0</td>\n",
              "      <td>0</td>\n",
              "      <td>0</td>\n",
              "      <td>0</td>\n",
              "      <td>0</td>\n",
              "      <td>0</td>\n",
              "      <td>0</td>\n",
              "      <td>0</td>\n",
              "      <td>0</td>\n",
              "      <td>0</td>\n",
              "      <td>0</td>\n",
              "      <td>0</td>\n",
              "      <td>0</td>\n",
              "      <td>0</td>\n",
              "      <td>0</td>\n",
              "      <td>0</td>\n",
              "      <td>0</td>\n",
              "      <td>0</td>\n",
              "      <td>0</td>\n",
              "      <td>0</td>\n",
              "      <td>0</td>\n",
              "      <td>0</td>\n",
              "      <td>0</td>\n",
              "      <td>0</td>\n",
              "      <td>0</td>\n",
              "      <td>0</td>\n",
              "      <td>1.0</td>\n",
              "    </tr>\n",
              "    <tr>\n",
              "      <th>4</th>\n",
              "      <td>1003127655</td>\n",
              "      <td>543.0</td>\n",
              "      <td>448</td>\n",
              "      <td>543</td>\n",
              "      <td>117.852320</td>\n",
              "      <td>188.176796</td>\n",
              "      <td>91.907495</td>\n",
              "      <td>85.472413</td>\n",
              "      <td>0</td>\n",
              "      <td>1</td>\n",
              "      <td>0</td>\n",
              "      <td>0</td>\n",
              "      <td>0</td>\n",
              "      <td>0</td>\n",
              "      <td>0</td>\n",
              "      <td>0</td>\n",
              "      <td>0</td>\n",
              "      <td>0</td>\n",
              "      <td>0</td>\n",
              "      <td>0</td>\n",
              "      <td>0</td>\n",
              "      <td>0</td>\n",
              "      <td>0</td>\n",
              "      <td>0</td>\n",
              "      <td>0</td>\n",
              "      <td>0</td>\n",
              "      <td>0</td>\n",
              "      <td>0</td>\n",
              "      <td>0</td>\n",
              "      <td>0</td>\n",
              "      <td>0</td>\n",
              "      <td>0</td>\n",
              "      <td>0</td>\n",
              "      <td>0</td>\n",
              "      <td>0</td>\n",
              "      <td>0</td>\n",
              "      <td>0</td>\n",
              "      <td>0</td>\n",
              "      <td>0</td>\n",
              "      <td>0</td>\n",
              "      <td>...</td>\n",
              "      <td>0</td>\n",
              "      <td>0</td>\n",
              "      <td>0</td>\n",
              "      <td>0</td>\n",
              "      <td>0</td>\n",
              "      <td>0</td>\n",
              "      <td>0</td>\n",
              "      <td>0</td>\n",
              "      <td>0</td>\n",
              "      <td>0</td>\n",
              "      <td>0</td>\n",
              "      <td>0</td>\n",
              "      <td>0</td>\n",
              "      <td>0</td>\n",
              "      <td>0</td>\n",
              "      <td>0</td>\n",
              "      <td>0</td>\n",
              "      <td>0</td>\n",
              "      <td>0</td>\n",
              "      <td>0</td>\n",
              "      <td>0</td>\n",
              "      <td>0</td>\n",
              "      <td>0</td>\n",
              "      <td>0</td>\n",
              "      <td>0</td>\n",
              "      <td>0</td>\n",
              "      <td>0</td>\n",
              "      <td>0</td>\n",
              "      <td>0</td>\n",
              "      <td>0</td>\n",
              "      <td>0</td>\n",
              "      <td>0</td>\n",
              "      <td>0</td>\n",
              "      <td>0</td>\n",
              "      <td>0</td>\n",
              "      <td>0</td>\n",
              "      <td>0</td>\n",
              "      <td>0</td>\n",
              "      <td>0</td>\n",
              "      <td>1.0</td>\n",
              "    </tr>\n",
              "  </tbody>\n",
              "</table>\n",
              "<p>5 rows × 2598 columns</p>\n",
              "</div>"
            ],
            "text/plain": [
              "          npi  line_srvc_cnt  ...  hcpcs_code_R0075  Fraud\n",
              "0  1003127655          617.0  ...                 0    1.0\n",
              "1  1003127655          249.0  ...                 0    1.0\n",
              "2  1003127655         1220.0  ...                 0    1.0\n",
              "3  1003127655          754.0  ...                 0    1.0\n",
              "4  1003127655          543.0  ...                 0    1.0\n",
              "\n",
              "[5 rows x 2598 columns]"
            ]
          },
          "metadata": {
            "tags": []
          },
          "execution_count": 12
        }
      ]
    },
    {
      "cell_type": "code",
      "metadata": {
        "id": "aOJl1nVPJLRY"
      },
      "source": [
        ""
      ],
      "execution_count": null,
      "outputs": []
    },
    {
      "cell_type": "code",
      "metadata": {
        "id": "RARO4KO6H8AG"
      },
      "source": [
        "X = Xnew.drop(\"Fraud\",axis = 1)\n",
        "y = Xnew[\"Fraud\"]"
      ],
      "execution_count": 13,
      "outputs": []
    },
    {
      "cell_type": "code",
      "metadata": {
        "id": "2iRLqj12H8G6",
        "outputId": "3e5f38ce-76f9-4730-fe63-bfb72f32b0be",
        "colab": {
          "base_uri": "https://localhost:8080/",
          "height": 421
        }
      },
      "source": [
        "\n",
        "# Oversample and plot imbalanced dataset with SMOTE\n",
        "from collections import Counter\n",
        "from sklearn.datasets import make_classification\n",
        "from imblearn.over_sampling import SMOTE\n",
        "from matplotlib import pyplot\n",
        "from numpy import where\n",
        "# define dataset\n",
        "X, y = make_classification(n_samples=10000, n_features=2, n_redundant=0,\n",
        "\tn_clusters_per_class=1, weights=[0.99], flip_y=0, random_state=1)\n",
        "# summarize class distribution\n",
        "counter = Counter(y)\n",
        "print(counter)\n",
        "# transform the dataset\n",
        "oversample = SMOTE()\n",
        "X, y = oversample.fit_resample(X, y)\n",
        "# summarize the new class distribution\n",
        "counter = Counter(y)\n",
        "print(counter)\n",
        "# scatter plot of examples by class label\n",
        "for label, _ in counter.items():\n",
        "\trow_ix = where(y == label)[0]\n",
        "\tpyplot.scatter(X[row_ix, 0], X[row_ix, 1], label=str(label))\n",
        "pyplot.legend()\n",
        "pyplot.show()"
      ],
      "execution_count": 2,
      "outputs": [
        {
          "output_type": "stream",
          "text": [
            "/usr/local/lib/python3.6/dist-packages/sklearn/externals/six.py:31: FutureWarning: The module is deprecated in version 0.21 and will be removed in version 0.23 since we've dropped support for Python 2.7. Please rely on the official version of six (https://pypi.org/project/six/).\n",
            "  \"(https://pypi.org/project/six/).\", FutureWarning)\n",
            "/usr/local/lib/python3.6/dist-packages/sklearn/utils/deprecation.py:144: FutureWarning: The sklearn.neighbors.base module is  deprecated in version 0.22 and will be removed in version 0.24. The corresponding classes / functions should instead be imported from sklearn.neighbors. Anything that cannot be imported from sklearn.neighbors is now part of the private API.\n",
            "  warnings.warn(message, FutureWarning)\n",
            "/usr/local/lib/python3.6/dist-packages/sklearn/utils/deprecation.py:87: FutureWarning: Function safe_indexing is deprecated; safe_indexing is deprecated in version 0.22 and will be removed in version 0.24.\n",
            "  warnings.warn(msg, category=FutureWarning)\n"
          ],
          "name": "stderr"
        },
        {
          "output_type": "stream",
          "text": [
            "Counter({0: 9900, 1: 100})\n",
            "Counter({0: 9900, 1: 9900})\n"
          ],
          "name": "stdout"
        },
        {
          "output_type": "display_data",
          "data": {
            "image/png": "[encoded data removed]",
            "text/plain": [
              "<Figure size 432x288 with 1 Axes>"
            ]
          },
          "metadata": {
            "tags": [],
            "needs_background": "light"
          }
        }
      ]
    },
    {
      "cell_type": "code",
      "metadata": {
        "id": "TS0JwoVnH8Lc"
      },
      "source": [
        "from sklearn.model_selection import train_test_split\n",
        "\n",
        "X_train,X_test,y_train, y_test = train_test_split(X,y,test_size = 0.28)"
      ],
      "execution_count": 3,
      "outputs": []
    },
    {
      "cell_type": "code",
      "metadata": {
        "id": "l0MFaMS-H8EZ"
      },
      "source": [
        "from sklearn.preprocessing import StandardScaler\n",
        "scaler = StandardScaler()\n",
        "X_train_scaled = scaler.fit_transform(X_train)\n",
        "X_test_scaled = scaler.transform(X_test)"
      ],
      "execution_count": 4,
      "outputs": []
    },
    {
      "cell_type": "code",
      "metadata": {
        "id": "vf4Fie9sH79v",
        "outputId": "cb6bf3f1-b296-41e7-8228-3b5edd6c42cf",
        "colab": {
          "base_uri": "https://localhost:8080/",
          "height": 340
        }
      },
      "source": [
        "from sklearn.ensemble import RandomForestClassifier\n",
        "\n",
        "clf = RandomForestClassifier()\n",
        "\n",
        "# we'll keep default hyperparameters\n",
        "\n",
        "clf.get_params()"
      ],
      "execution_count": 5,
      "outputs": [
        {
          "output_type": "execute_result",
          "data": {
            "text/plain": [
              "{'bootstrap': True,\n",
              " 'ccp_alpha': 0.0,\n",
              " 'class_weight': None,\n",
              " 'criterion': 'gini',\n",
              " 'max_depth': None,\n",
              " 'max_features': 'auto',\n",
              " 'max_leaf_nodes': None,\n",
              " 'max_samples': None,\n",
              " 'min_impurity_decrease': 0.0,\n",
              " 'min_impurity_split': None,\n",
              " 'min_samples_leaf': 1,\n",
              " 'min_samples_split': 2,\n",
              " 'min_weight_fraction_leaf': 0.0,\n",
              " 'n_estimators': 100,\n",
              " 'n_jobs': None,\n",
              " 'oob_score': False,\n",
              " 'random_state': None,\n",
              " 'verbose': 0,\n",
              " 'warm_start': False}"
            ]
          },
          "metadata": {
            "tags": []
          },
          "execution_count": 5
        }
      ]
    },
    {
      "cell_type": "code",
      "metadata": {
        "id": "l7oVWjG9H77X",
        "outputId": "43abdefe-e1cf-4a18-a008-50db8c24e177",
        "colab": {
          "base_uri": "https://localhost:8080/",
          "height": 136
        }
      },
      "source": [
        "X_train"
      ],
      "execution_count": 6,
      "outputs": [
        {
          "output_type": "execute_result",
          "data": {
            "text/plain": [
              "array([[-0.53206792,  1.37521465],\n",
              "       [-0.25458669,  1.01593735],\n",
              "       [ 0.55740962,  0.7104949 ],\n",
              "       ...,\n",
              "       [ 1.09680704,  0.91828123],\n",
              "       [-0.22591476,  2.10574369],\n",
              "       [-1.97488839,  0.51038032]])"
            ]
          },
          "metadata": {
            "tags": []
          },
          "execution_count": 6
        }
      ]
    },
    {
      "cell_type": "code",
      "metadata": {
        "id": "046Bu16vH75d",
        "outputId": "6fc2beda-e7c7-468a-d815-4851b3658349",
        "colab": {
          "base_uri": "https://localhost:8080/",
          "height": 34
        }
      },
      "source": [
        "X_train.shape, X_test.shape, y_train.shape, y_test.shape"
      ],
      "execution_count": 7,
      "outputs": [
        {
          "output_type": "execute_result",
          "data": {
            "text/plain": [
              "((14255, 2), (5545, 2), (14255,), (5545,))"
            ]
          },
          "metadata": {
            "tags": []
          },
          "execution_count": 7
        }
      ]
    },
    {
      "cell_type": "code",
      "metadata": {
        "id": "ePxqHDAtH71r"
      },
      "source": [
        "from sklearn.ensemble import RandomForestClassifier\n",
        "import numpy as np\n",
        "# Setup random seed\n",
        "np.random.seed(42)"
      ],
      "execution_count": 9,
      "outputs": []
    },
    {
      "cell_type": "code",
      "metadata": {
        "id": "gkfBBWBsH7yN",
        "outputId": "08ccd45d-5cee-48ae-eef7-186a06e0bd91",
        "colab": {
          "base_uri": "https://localhost:8080/",
          "height": 34
        }
      },
      "source": [
        "# Instantiate Random Forest Classifier\n",
        "clf = RandomForestClassifier(n_estimators=100)\n",
        "clf.fit(X_train_scaled, y_train)\n",
        "\n",
        "# Evaluate the Random Forest Classifier\n",
        "clf.score(X_test_scaled, y_test)"
      ],
      "execution_count": 10,
      "outputs": [
        {
          "output_type": "execute_result",
          "data": {
            "text/plain": [
              "0.9493237150586114"
            ]
          },
          "metadata": {
            "tags": []
          },
          "execution_count": 10
        }
      ]
    },
    {
      "cell_type": "code",
      "metadata": {
        "id": "4v4RRbKWH7vj",
        "outputId": "0fb5e3dd-6e19-438a-9c81-5928bca5a741",
        "colab": {
          "base_uri": "https://localhost:8080/",
          "height": 34
        }
      },
      "source": [
        "clf.predict(X_test_scaled)"
      ],
      "execution_count": 11,
      "outputs": [
        {
          "output_type": "execute_result",
          "data": {
            "text/plain": [
              "array([0, 0, 0, ..., 1, 0, 1])"
            ]
          },
          "metadata": {
            "tags": []
          },
          "execution_count": 11
        }
      ]
    },
    {
      "cell_type": "code",
      "metadata": {
        "id": "YShIGkt-Lfsm",
        "outputId": "387482ac-99ca-4394-898f-b4e7bb570782",
        "colab": {
          "base_uri": "https://localhost:8080/",
          "height": 34
        }
      },
      "source": [
        "# Compare predictions to truth labels to evaluate the model\n",
        "y_preds = clf.predict(X_test_scaled)\n",
        "np.mean(y_preds == y_test)"
      ],
      "execution_count": 12,
      "outputs": [
        {
          "output_type": "execute_result",
          "data": {
            "text/plain": [
              "0.9493237150586114"
            ]
          },
          "metadata": {
            "tags": []
          },
          "execution_count": 12
        }
      ]
    },
    {
      "cell_type": "code",
      "metadata": {
        "id": "tKTQKFIMLhN8",
        "outputId": "1315c662-e7a5-4bc7-f280-6bc3870aee79",
        "colab": {
          "base_uri": "https://localhost:8080/",
          "height": 170
        }
      },
      "source": [
        "from sklearn.metrics import classification_report\n",
        "target_names = ['class 0 = NON','class 1 = FRAUD']\n",
        "print(classification_report(y_test, y_preds,target_names=target_names))"
      ],
      "execution_count": 15,
      "outputs": [
        {
          "output_type": "stream",
          "text": [
            "                 precision    recall  f1-score   support\n",
            "\n",
            "  class 0 = NON       0.95      0.94      0.95      2792\n",
            "class 1 = FRAUD       0.94      0.95      0.95      2753\n",
            "\n",
            "       accuracy                           0.95      5545\n",
            "      macro avg       0.95      0.95      0.95      5545\n",
            "   weighted avg       0.95      0.95      0.95      5545\n",
            "\n"
          ],
          "name": "stdout"
        }
      ]
    },
    {
      "cell_type": "code",
      "metadata": {
        "id": "VXwSzRhNLhce",
        "outputId": "bace88d4-6c60-4f5a-a5b1-41cf471d1ae9",
        "colab": {
          "base_uri": "https://localhost:8080/",
          "height": 554
        }
      },
      "source": [
        "from sklearn import metrics\n",
        "cm = metrics.confusion_matrix(y_test, y_preds)\n",
        "print(cm)\n",
        "import matplotlib.pyplot as plt\n",
        "import seaborn as sns\n",
        "plt.figure(figsize=(9,9))\n",
        "sns.heatmap(cm, annot=True, fmt=\".3f\", linewidths=.5, square = True, cmap = 'Blues_r');\n",
        "plt.ylabel('Actual label');\n",
        "plt.xlabel('Predicted label');\n",
        "plt.title(\"RandomForestClassifier\");"
      ],
      "execution_count": 18,
      "outputs": [
        {
          "output_type": "stream",
          "text": [
            "[[2638  154]\n",
            " [ 127 2626]]\n"
          ],
          "name": "stdout"
        },
        {
          "output_type": "display_data",
          "data": {
            "image/png": "[encoded data removed]",
            "text/plain": [
              "<Figure size 648x648 with 2 Axes>"
            ]
          },
          "metadata": {
            "tags": [],
            "needs_background": "light"
          }
        }
      ]
    },
    {
      "cell_type": "code",
      "metadata": {
        "id": "hoXEIS1yLhg2",
        "outputId": "50c8b07e-8806-4bde-898b-6b87aeaa1a62",
        "colab": {
          "base_uri": "https://localhost:8080/",
          "height": 34
        }
      },
      "source": [
        "from sklearn.linear_model import LogisticRegression\n",
        "logisticRegr = LogisticRegression()\n",
        "logisticRegr.fit(X_train_scaled, y_train)\n",
        "logisticRegr.score(X_test_scaled, y_test)"
      ],
      "execution_count": 19,
      "outputs": [
        {
          "output_type": "execute_result",
          "data": {
            "text/plain": [
              "0.9049594229035167"
            ]
          },
          "metadata": {
            "tags": []
          },
          "execution_count": 19
        }
      ]
    },
    {
      "cell_type": "code",
      "metadata": {
        "id": "SkvDcLoGLhZE",
        "outputId": "2a9aaa75-db7c-448f-c944-0fe51c06cc6e",
        "colab": {
          "base_uri": "https://localhost:8080/",
          "height": 34
        }
      },
      "source": [
        "y_preds = logisticRegr.predict(X_test_scaled)\n",
        "np.mean(y_preds == y_test)"
      ],
      "execution_count": 20,
      "outputs": [
        {
          "output_type": "execute_result",
          "data": {
            "text/plain": [
              "0.9049594229035167"
            ]
          },
          "metadata": {
            "tags": []
          },
          "execution_count": 20
        }
      ]
    },
    {
      "cell_type": "code",
      "metadata": {
        "id": "tsWVBJ0YLhXA",
        "outputId": "6773eb6e-3c90-47fe-a2a9-ddd3a810ef5f",
        "colab": {
          "base_uri": "https://localhost:8080/",
          "height": 170
        }
      },
      "source": [
        "from sklearn.metrics import classification_report\n",
        "target_names = ['class 0 = Green','class 1 = Red']\n",
        "print(classification_report(y_test, y_preds,target_names=target_names))"
      ],
      "execution_count": 21,
      "outputs": [
        {
          "output_type": "stream",
          "text": [
            "                 precision    recall  f1-score   support\n",
            "\n",
            "class 0 = Green       0.90      0.91      0.91      2792\n",
            "  class 1 = Red       0.91      0.90      0.90      2753\n",
            "\n",
            "       accuracy                           0.90      5545\n",
            "      macro avg       0.91      0.90      0.90      5545\n",
            "   weighted avg       0.91      0.90      0.90      5545\n",
            "\n"
          ],
          "name": "stdout"
        }
      ]
    },
    {
      "cell_type": "code",
      "metadata": {
        "id": "0K6xeEjhLhVD",
        "outputId": "93b55dd9-1e55-4cb1-f06a-0469970a78a7",
        "colab": {
          "base_uri": "https://localhost:8080/",
          "height": 554
        }
      },
      "source": [
        "from sklearn import metrics\n",
        "cm = metrics.confusion_matrix(y_test, y_preds)\n",
        "print(cm)\n",
        "plt.figure(figsize=(9,9))\n",
        "sns.heatmap(cm, annot=True, fmt=\".3f\", linewidths=.5, square = True, cmap = 'Blues_r');\n",
        "plt.ylabel('Actual label');\n",
        "plt.xlabel('Predicted label');\n",
        "plt.title(\"LogisticRegression\");"
      ],
      "execution_count": 22,
      "outputs": [
        {
          "output_type": "stream",
          "text": [
            "[[2551  241]\n",
            " [ 286 2467]]\n"
          ],
          "name": "stdout"
        },
        {
          "output_type": "display_data",
          "data": {
            "image/png": "[encoded data removed]",
            "text/plain": [
              "<Figure size 648x648 with 2 Axes>"
            ]
          },
          "metadata": {
            "tags": [],
            "needs_background": "light"
          }
        }
      ]
    },
    {
      "cell_type": "code",
      "metadata": {
        "id": "hQR1GfRlLhSh",
        "outputId": "42a20e0f-5876-4e83-d644-47664fea9c18",
        "colab": {
          "base_uri": "https://localhost:8080/",
          "height": 34
        }
      },
      "source": [
        "from sklearn.metrics import roc_auc_score\n",
        "roc_auc_score(y_test, y_preds)"
      ],
      "execution_count": 23,
      "outputs": [
        {
          "output_type": "execute_result",
          "data": {
            "text/plain": [
              "0.9048976396679007"
            ]
          },
          "metadata": {
            "tags": []
          },
          "execution_count": 23
        }
      ]
    },
    {
      "cell_type": "code",
      "metadata": {
        "id": "qYssjWQtMzEh"
      },
      "source": [
        ""
      ],
      "execution_count": null,
      "outputs": []
    }
  ]
}